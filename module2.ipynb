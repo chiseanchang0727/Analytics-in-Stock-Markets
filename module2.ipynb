{
 "cells": [
  {
   "cell_type": "code",
   "execution_count": 4,
   "metadata": {},
   "outputs": [],
   "source": [
    "import numpy as np\n",
    "import pandas as pd\n",
    "import requests\n",
    "\n",
    "import yfinance as yf\n",
    "import pandas_datareader as pdr\n",
    "\n",
    "#Data viz\n",
    "import plotly.graph_objs as go\n",
    "import plotly.express as px\n",
    "\n",
    "import time\n",
    "from datetime import date"
   ]
  },
  {
   "cell_type": "markdown",
   "metadata": {},
   "source": [
    "# IPOs data from Web"
   ]
  },
  {
   "cell_type": "code",
   "execution_count": 5,
   "metadata": {},
   "outputs": [
    {
     "name": "stderr",
     "output_type": "stream",
     "text": [
      "C:\\Users\\Sean\\AppData\\Local\\Temp\\ipykernel_4312\\2178331157.py:11: FutureWarning: Passing literal html to 'read_html' is deprecated and will be removed in a future version. To read from a literal string, wrap it in a 'StringIO' object.\n",
      "  ipo_dfs = pd.read_html(response.text)\n"
     ]
    }
   ],
   "source": [
    "headers = {\n",
    "    'User-Agent': 'Mozilla/5.0 (Windows NT 10.0; Win64; x64) AppleWebKit/537.36 (KHTML, like Gecko) Chrome/58.0.3029.110 Safari/537.3',\n",
    "}\n",
    "\n",
    "url = \"https://stockanalysis.com/ipos/2023/\"\n",
    "response = requests.get(url, headers=headers)\n",
    "\n",
    "ipo_dfs = pd.read_html(response.text)"
   ]
  },
  {
   "cell_type": "code",
   "execution_count": 7,
   "metadata": {},
   "outputs": [
    {
     "data": {
      "text/plain": [
       "[         IPO Date Symbol                             Company Name IPO Price  \\\n",
       " 0    Dec 27, 2023   IROH            Iron Horse Acquisitions Corp.    $10.00   \n",
       " 1    Dec 19, 2023   LGCB                       Linkage Global Inc     $4.00   \n",
       " 2    Dec 15, 2023    ZKH                        ZKH Group Limited    $15.50   \n",
       " 3    Dec 15, 2023   BAYA                 Bayview Acquisition Corp    $10.00   \n",
       " 4    Dec 14, 2023   INHD                       Inno Holdings Inc.     $4.00   \n",
       " ..            ...    ...                                      ...       ...   \n",
       " 149  Jan 25, 2023    QSG                     QuantaSing Group Ltd    $12.50   \n",
       " 150  Jan 20, 2023   CVKD              Cadrenal Therapeutics, Inc.     $5.00   \n",
       " 151  Jan 13, 2023   SKWD  Skyward Specialty Insurance Group, Inc.    $15.00   \n",
       " 152  Jan 13, 2023   ISRL                 Israel Acquisitions Corp    $10.00   \n",
       " 153  Jan 13, 2023   MGOL                          MGO Global Inc.     $5.00   \n",
       " \n",
       "     Current   Return  \n",
       " 0    $10.03    0.30%  \n",
       " 1     $3.24  -19.00%  \n",
       " 2    $12.43  -19.81%  \n",
       " 3    $10.18    1.80%  \n",
       " 4     $0.81  -84.24%  \n",
       " ..      ...      ...  \n",
       " 149   $3.43  -72.56%  \n",
       " 150   $0.43  -91.39%  \n",
       " 151  $33.46  123.07%  \n",
       " 152  $10.92    9.20%  \n",
       " 153   $0.22  -95.58%  \n",
       " \n",
       " [154 rows x 6 columns],\n",
       "      Date Symbol                       Name\n",
       " 0  Apr 30    RAN  RanMarine Technology B.V.\n",
       " 1   May 1    VIK            Viking Holdings\n",
       " 2   May 3   KMCM                 Key Mining]"
      ]
     },
     "execution_count": 7,
     "metadata": {},
     "output_type": "execute_result"
    }
   ],
   "source": [
    "ipo_dfs"
   ]
  }
 ],
 "metadata": {
  "kernelspec": {
   "display_name": "base",
   "language": "python",
   "name": "python3"
  },
  "language_info": {
   "codemirror_mode": {
    "name": "ipython",
    "version": 3
   },
   "file_extension": ".py",
   "mimetype": "text/x-python",
   "name": "python",
   "nbconvert_exporter": "python",
   "pygments_lexer": "ipython3",
   "version": "3.10.9"
  }
 },
 "nbformat": 4,
 "nbformat_minor": 2
}
