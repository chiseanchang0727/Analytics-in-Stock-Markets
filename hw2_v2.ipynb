{
 "cells": [
  {
   "cell_type": "code",
   "execution_count": 2,
   "metadata": {},
   "outputs": [],
   "source": [
    "import numpy as np\n",
    "import pandas as pd\n",
    "import requests\n",
    "\n",
    "#Fin Data Sources\n",
    "import yfinance as yf\n",
    "import pandas_datareader as pdr\n",
    "\n",
    "#Data viz\n",
    "import plotly.graph_objs as go\n",
    "import plotly.express as px\n",
    "\n",
    "import time\n",
    "from datetime import date\n",
    "\n",
    "import math\n",
    "\n",
    "import warnings\n",
    "# Suppress all warnings\n",
    "warnings.filterwarnings(\"ignore\")\n",
    "\n",
    "import talib"
   ]
  },
  {
   "cell_type": "code",
   "execution_count": 4,
   "metadata": {},
   "outputs": [],
   "source": [
    "def get_ipo_data(target):\n",
    "    headers = {\n",
    "    'User-Agent': 'Mozilla/5.0 (Windows NT 10.0; Win64; x64) AppleWebKit/537.36 (KHTML, like Gecko) Chrome/58.0.3029.110 Safari/537.3',\n",
    "    }\n",
    "\n",
    "    url = \"https://stockanalysis.com/ipos/\" + target + \"/\"\n",
    "\n",
    "    # header is not necessary here\n",
    "    response = requests.get(url, headers=headers)\n",
    "\n",
    "    ipo_raw = pd.read_html(response.text)\n",
    "    \n",
    "    return ipo_raw[0]"
   ]
  },
  {
   "cell_type": "code",
   "execution_count": 5,
   "metadata": {},
   "outputs": [
    {
     "name": "stderr",
     "output_type": "stream",
     "text": [
      "C:\\Users\\sean.chang\\AppData\\Local\\Temp\\ipykernel_8196\\4258465984.py:11: FutureWarning: Passing literal html to 'read_html' is deprecated and will be removed in a future version. To read from a literal string, wrap it in a 'StringIO' object.\n",
      "  ipo_raw = pd.read_html(response.text)\n"
     ]
    },
    {
     "data": {
      "text/html": [
       "<div>\n",
       "<style scoped>\n",
       "    .dataframe tbody tr th:only-of-type {\n",
       "        vertical-align: middle;\n",
       "    }\n",
       "\n",
       "    .dataframe tbody tr th {\n",
       "        vertical-align: top;\n",
       "    }\n",
       "\n",
       "    .dataframe thead th {\n",
       "        text-align: right;\n",
       "    }\n",
       "</style>\n",
       "<table border=\"1\" class=\"dataframe\">\n",
       "  <thead>\n",
       "    <tr style=\"text-align: right;\">\n",
       "      <th></th>\n",
       "      <th>Filing Date</th>\n",
       "      <th>Symbol</th>\n",
       "      <th>Company Name</th>\n",
       "      <th>Price Range</th>\n",
       "      <th>Shares Offered</th>\n",
       "    </tr>\n",
       "  </thead>\n",
       "  <tbody>\n",
       "    <tr>\n",
       "      <th>0</th>\n",
       "      <td>May 3, 2024</td>\n",
       "      <td>TBN</td>\n",
       "      <td>Tamboran Resources Corporation</td>\n",
       "      <td>-</td>\n",
       "      <td>-</td>\n",
       "    </tr>\n",
       "    <tr>\n",
       "      <th>1</th>\n",
       "      <td>Apr 29, 2024</td>\n",
       "      <td>HWEC</td>\n",
       "      <td>HW Electro Co., Ltd.</td>\n",
       "      <td>$3.00</td>\n",
       "      <td>3750000</td>\n",
       "    </tr>\n",
       "    <tr>\n",
       "      <th>2</th>\n",
       "      <td>Apr 29, 2024</td>\n",
       "      <td>DTSQ</td>\n",
       "      <td>DT Cloud Star Acquisition Corporation</td>\n",
       "      <td>$10.00</td>\n",
       "      <td>6000000</td>\n",
       "    </tr>\n",
       "    <tr>\n",
       "      <th>3</th>\n",
       "      <td>Apr 26, 2024</td>\n",
       "      <td>EURK</td>\n",
       "      <td>Eureka Acquisition Corp</td>\n",
       "      <td>$10.00</td>\n",
       "      <td>5000000</td>\n",
       "    </tr>\n",
       "    <tr>\n",
       "      <th>4</th>\n",
       "      <td>Apr 26, 2024</td>\n",
       "      <td>HDL</td>\n",
       "      <td>Super Hi International Holding Ltd.</td>\n",
       "      <td>-</td>\n",
       "      <td>-</td>\n",
       "    </tr>\n",
       "    <tr>\n",
       "      <th>5</th>\n",
       "      <td>Apr 22, 2024</td>\n",
       "      <td>DRJT</td>\n",
       "      <td>Derun Group Inc</td>\n",
       "      <td>$5.00</td>\n",
       "      <td>-</td>\n",
       "    </tr>\n",
       "    <tr>\n",
       "      <th>6</th>\n",
       "      <td>Apr 19, 2024</td>\n",
       "      <td>GPAT</td>\n",
       "      <td>GP-Act III Acquisition Corp.</td>\n",
       "      <td>$10.00</td>\n",
       "      <td>25000000</td>\n",
       "    </tr>\n",
       "    <tr>\n",
       "      <th>7</th>\n",
       "      <td>Apr 16, 2024</td>\n",
       "      <td>JLJT</td>\n",
       "      <td>Jialiang Holdings Ltd</td>\n",
       "      <td>$5.00</td>\n",
       "      <td>-</td>\n",
       "    </tr>\n",
       "    <tr>\n",
       "      <th>8</th>\n",
       "      <td>Apr 15, 2024</td>\n",
       "      <td>GAUZ</td>\n",
       "      <td>Gauzy Ltd.</td>\n",
       "      <td>-</td>\n",
       "      <td>-</td>\n",
       "    </tr>\n",
       "    <tr>\n",
       "      <th>9</th>\n",
       "      <td>Apr 12, 2024</td>\n",
       "      <td>BOW</td>\n",
       "      <td>Bowhead Specialty Holdings Inc.</td>\n",
       "      <td>-</td>\n",
       "      <td>-</td>\n",
       "    </tr>\n",
       "    <tr>\n",
       "      <th>10</th>\n",
       "      <td>Apr 5, 2024</td>\n",
       "      <td>SPHL</td>\n",
       "      <td>Springview Holdings Ltd</td>\n",
       "      <td>$4.00 - $5.00</td>\n",
       "      <td>2000000</td>\n",
       "    </tr>\n",
       "    <tr>\n",
       "      <th>11</th>\n",
       "      <td>Apr 2, 2024</td>\n",
       "      <td>FFFZ</td>\n",
       "      <td>Fuxing China Group Limited</td>\n",
       "      <td>$4.00 - $4.50</td>\n",
       "      <td>2000000</td>\n",
       "    </tr>\n",
       "    <tr>\n",
       "      <th>12</th>\n",
       "      <td>Apr 1, 2024</td>\n",
       "      <td>LSH</td>\n",
       "      <td>Lakeside Holding Limited</td>\n",
       "      <td>$4.00 - $5.00</td>\n",
       "      <td>1250000</td>\n",
       "    </tr>\n",
       "    <tr>\n",
       "      <th>13</th>\n",
       "      <td>Apr 1, 2024</td>\n",
       "      <td>XXC</td>\n",
       "      <td>Xinxu Copper Industry Technology Limited</td>\n",
       "      <td>-</td>\n",
       "      <td>-</td>\n",
       "    </tr>\n",
       "    <tr>\n",
       "      <th>14</th>\n",
       "      <td>Mar 29, 2024</td>\n",
       "      <td>OCP</td>\n",
       "      <td>Huge Amount Group Limited</td>\n",
       "      <td>-</td>\n",
       "      <td>-</td>\n",
       "    </tr>\n",
       "    <tr>\n",
       "      <th>15</th>\n",
       "      <td>Mar 28, 2024</td>\n",
       "      <td>RITR</td>\n",
       "      <td>Reitar Logtech Holdings Limited</td>\n",
       "      <td>$4.00 - $5.00</td>\n",
       "      <td>2500000</td>\n",
       "    </tr>\n",
       "    <tr>\n",
       "      <th>16</th>\n",
       "      <td>Mar 26, 2024</td>\n",
       "      <td>NTCL</td>\n",
       "      <td>NetClass Technology Inc</td>\n",
       "      <td>$5.00 - $6.00</td>\n",
       "      <td>1800000</td>\n",
       "    </tr>\n",
       "    <tr>\n",
       "      <th>17</th>\n",
       "      <td>Mar 25, 2024</td>\n",
       "      <td>JCY</td>\n",
       "      <td>Jingcaoyuan Holdings Inc</td>\n",
       "      <td>-</td>\n",
       "      <td>-</td>\n",
       "    </tr>\n",
       "    <tr>\n",
       "      <th>18</th>\n",
       "      <td>Mar 22, 2024</td>\n",
       "      <td>CCIX</td>\n",
       "      <td>Churchill Capital Corp IX</td>\n",
       "      <td>$10.00</td>\n",
       "      <td>25000000</td>\n",
       "    </tr>\n",
       "    <tr>\n",
       "      <th>19</th>\n",
       "      <td>Mar 21, 2024</td>\n",
       "      <td>LXTM</td>\n",
       "      <td>Lei Xin Holdings Co., Ltd.</td>\n",
       "      <td>-</td>\n",
       "      <td>-</td>\n",
       "    </tr>\n",
       "  </tbody>\n",
       "</table>\n",
       "</div>"
      ],
      "text/plain": [
       "     Filing Date Symbol                              Company Name  \\\n",
       "0    May 3, 2024    TBN            Tamboran Resources Corporation   \n",
       "1   Apr 29, 2024   HWEC                      HW Electro Co., Ltd.   \n",
       "2   Apr 29, 2024   DTSQ     DT Cloud Star Acquisition Corporation   \n",
       "3   Apr 26, 2024   EURK                   Eureka Acquisition Corp   \n",
       "4   Apr 26, 2024    HDL       Super Hi International Holding Ltd.   \n",
       "5   Apr 22, 2024   DRJT                           Derun Group Inc   \n",
       "6   Apr 19, 2024   GPAT              GP-Act III Acquisition Corp.   \n",
       "7   Apr 16, 2024   JLJT                     Jialiang Holdings Ltd   \n",
       "8   Apr 15, 2024   GAUZ                                Gauzy Ltd.   \n",
       "9   Apr 12, 2024    BOW           Bowhead Specialty Holdings Inc.   \n",
       "10   Apr 5, 2024   SPHL                   Springview Holdings Ltd   \n",
       "11   Apr 2, 2024   FFFZ                Fuxing China Group Limited   \n",
       "12   Apr 1, 2024    LSH                  Lakeside Holding Limited   \n",
       "13   Apr 1, 2024    XXC  Xinxu Copper Industry Technology Limited   \n",
       "14  Mar 29, 2024    OCP                 Huge Amount Group Limited   \n",
       "15  Mar 28, 2024   RITR           Reitar Logtech Holdings Limited   \n",
       "16  Mar 26, 2024   NTCL                   NetClass Technology Inc   \n",
       "17  Mar 25, 2024    JCY                  Jingcaoyuan Holdings Inc   \n",
       "18  Mar 22, 2024   CCIX                 Churchill Capital Corp IX   \n",
       "19  Mar 21, 2024   LXTM                Lei Xin Holdings Co., Ltd.   \n",
       "\n",
       "      Price Range Shares Offered  \n",
       "0               -              -  \n",
       "1           $3.00        3750000  \n",
       "2          $10.00        6000000  \n",
       "3          $10.00        5000000  \n",
       "4               -              -  \n",
       "5           $5.00              -  \n",
       "6          $10.00       25000000  \n",
       "7           $5.00              -  \n",
       "8               -              -  \n",
       "9               -              -  \n",
       "10  $4.00 - $5.00        2000000  \n",
       "11  $4.00 - $4.50        2000000  \n",
       "12  $4.00 - $5.00        1250000  \n",
       "13              -              -  \n",
       "14              -              -  \n",
       "15  $4.00 - $5.00        2500000  \n",
       "16  $5.00 - $6.00        1800000  \n",
       "17              -              -  \n",
       "18         $10.00       25000000  \n",
       "19              -              -  "
      ]
     },
     "execution_count": 5,
     "metadata": {},
     "output_type": "execute_result"
    }
   ],
   "source": [
    "df_ipo_filings = get_ipo_data('filings')\n",
    "df_ipo_filings.head(20)"
   ]
  },
  {
   "cell_type": "code",
   "execution_count": 6,
   "metadata": {},
   "outputs": [
    {
     "data": {
      "text/plain": [
       "Filing Date       object\n",
       "Symbol            object\n",
       "Company Name      object\n",
       "Price Range       object\n",
       "Shares Offered    object\n",
       "dtype: object"
      ]
     },
     "execution_count": 6,
     "metadata": {},
     "output_type": "execute_result"
    }
   ],
   "source": [
    "df_ipo_filings.dtypes"
   ]
  },
  {
   "cell_type": "markdown",
   "metadata": {},
   "source": [
    "# Q1"
   ]
  },
  {
   "cell_type": "code",
   "execution_count": 7,
   "metadata": {},
   "outputs": [],
   "source": [
    "df_ipo_filings['Filing Date'] = pd.to_datetime(df_ipo_filings['Filing Date'], format=\"%b %d, %Y\")\n",
    "df_ipo_filings['Shares Offered'] = pd.to_numeric(df_ipo_filings['Shares Offered'], errors='coerce').fillna(0)"
   ]
  },
  {
   "cell_type": "code",
   "execution_count": 8,
   "metadata": {},
   "outputs": [],
   "source": [
    "def average_price_range(row):\n",
    "    if row == \"-\":\n",
    "        return np.NaN\n",
    "    elif '-' in row:\n",
    "        prices = row.replace('$','').split(' - ')\n",
    "        prices = [float(item) for item in prices]\n",
    "\n",
    "        return sum(prices)/len(prices)\n",
    "    elif '$' in row:\n",
    "        return float(row.replace('$',''))\n",
    "    else:\n",
    "        return row"
   ]
  },
  {
   "cell_type": "code",
   "execution_count": 9,
   "metadata": {},
   "outputs": [
    {
     "data": {
      "text/html": [
       "<div>\n",
       "<style scoped>\n",
       "    .dataframe tbody tr th:only-of-type {\n",
       "        vertical-align: middle;\n",
       "    }\n",
       "\n",
       "    .dataframe tbody tr th {\n",
       "        vertical-align: top;\n",
       "    }\n",
       "\n",
       "    .dataframe thead th {\n",
       "        text-align: right;\n",
       "    }\n",
       "</style>\n",
       "<table border=\"1\" class=\"dataframe\">\n",
       "  <thead>\n",
       "    <tr style=\"text-align: right;\">\n",
       "      <th></th>\n",
       "      <th>Filing Date</th>\n",
       "      <th>Symbol</th>\n",
       "      <th>Company Name</th>\n",
       "      <th>Price Range</th>\n",
       "      <th>Shares Offered</th>\n",
       "    </tr>\n",
       "  </thead>\n",
       "  <tbody>\n",
       "    <tr>\n",
       "      <th>0</th>\n",
       "      <td>2024-05-03</td>\n",
       "      <td>TBN</td>\n",
       "      <td>Tamboran Resources Corporation</td>\n",
       "      <td>-</td>\n",
       "      <td>0.0</td>\n",
       "    </tr>\n",
       "    <tr>\n",
       "      <th>1</th>\n",
       "      <td>2024-04-29</td>\n",
       "      <td>HWEC</td>\n",
       "      <td>HW Electro Co., Ltd.</td>\n",
       "      <td>$3.00</td>\n",
       "      <td>3750000.0</td>\n",
       "    </tr>\n",
       "    <tr>\n",
       "      <th>2</th>\n",
       "      <td>2024-04-29</td>\n",
       "      <td>DTSQ</td>\n",
       "      <td>DT Cloud Star Acquisition Corporation</td>\n",
       "      <td>$10.00</td>\n",
       "      <td>6000000.0</td>\n",
       "    </tr>\n",
       "    <tr>\n",
       "      <th>3</th>\n",
       "      <td>2024-04-26</td>\n",
       "      <td>EURK</td>\n",
       "      <td>Eureka Acquisition Corp</td>\n",
       "      <td>$10.00</td>\n",
       "      <td>5000000.0</td>\n",
       "    </tr>\n",
       "    <tr>\n",
       "      <th>4</th>\n",
       "      <td>2024-04-26</td>\n",
       "      <td>HDL</td>\n",
       "      <td>Super Hi International Holding Ltd.</td>\n",
       "      <td>-</td>\n",
       "      <td>0.0</td>\n",
       "    </tr>\n",
       "    <tr>\n",
       "      <th>...</th>\n",
       "      <td>...</td>\n",
       "      <td>...</td>\n",
       "      <td>...</td>\n",
       "      <td>...</td>\n",
       "      <td>...</td>\n",
       "    </tr>\n",
       "    <tr>\n",
       "      <th>320</th>\n",
       "      <td>2020-01-21</td>\n",
       "      <td>GOXS</td>\n",
       "      <td>Goxus, Inc.</td>\n",
       "      <td>$8.00 - $10.00</td>\n",
       "      <td>1500000.0</td>\n",
       "    </tr>\n",
       "    <tr>\n",
       "      <th>321</th>\n",
       "      <td>2020-01-21</td>\n",
       "      <td>UTXO</td>\n",
       "      <td>UTXO Acquisition, Inc.</td>\n",
       "      <td>$10.00</td>\n",
       "      <td>5000000.0</td>\n",
       "    </tr>\n",
       "    <tr>\n",
       "      <th>322</th>\n",
       "      <td>2019-12-09</td>\n",
       "      <td>LOHA</td>\n",
       "      <td>Loha Co. Ltd</td>\n",
       "      <td>$8.00 - $10.00</td>\n",
       "      <td>2500000.0</td>\n",
       "    </tr>\n",
       "    <tr>\n",
       "      <th>323</th>\n",
       "      <td>2019-10-04</td>\n",
       "      <td>ZGHB</td>\n",
       "      <td>China Eco-Materials Group Co. Limited</td>\n",
       "      <td>$4.00</td>\n",
       "      <td>4300000.0</td>\n",
       "    </tr>\n",
       "    <tr>\n",
       "      <th>324</th>\n",
       "      <td>2018-12-27</td>\n",
       "      <td>FBOX</td>\n",
       "      <td>Fit Boxx Holdings Limited</td>\n",
       "      <td>$5.00 - $6.50</td>\n",
       "      <td>2000000.0</td>\n",
       "    </tr>\n",
       "  </tbody>\n",
       "</table>\n",
       "<p>325 rows × 5 columns</p>\n",
       "</div>"
      ],
      "text/plain": [
       "    Filing Date Symbol                           Company Name     Price Range  \\\n",
       "0    2024-05-03    TBN         Tamboran Resources Corporation               -   \n",
       "1    2024-04-29   HWEC                   HW Electro Co., Ltd.           $3.00   \n",
       "2    2024-04-29   DTSQ  DT Cloud Star Acquisition Corporation          $10.00   \n",
       "3    2024-04-26   EURK                Eureka Acquisition Corp          $10.00   \n",
       "4    2024-04-26    HDL    Super Hi International Holding Ltd.               -   \n",
       "..          ...    ...                                    ...             ...   \n",
       "320  2020-01-21   GOXS                            Goxus, Inc.  $8.00 - $10.00   \n",
       "321  2020-01-21   UTXO                 UTXO Acquisition, Inc.          $10.00   \n",
       "322  2019-12-09   LOHA                           Loha Co. Ltd  $8.00 - $10.00   \n",
       "323  2019-10-04   ZGHB  China Eco-Materials Group Co. Limited           $4.00   \n",
       "324  2018-12-27   FBOX              Fit Boxx Holdings Limited   $5.00 - $6.50   \n",
       "\n",
       "     Shares Offered  \n",
       "0               0.0  \n",
       "1         3750000.0  \n",
       "2         6000000.0  \n",
       "3         5000000.0  \n",
       "4               0.0  \n",
       "..              ...  \n",
       "320       1500000.0  \n",
       "321       5000000.0  \n",
       "322       2500000.0  \n",
       "323       4300000.0  \n",
       "324       2000000.0  \n",
       "\n",
       "[325 rows x 5 columns]"
      ]
     },
     "execution_count": 9,
     "metadata": {},
     "output_type": "execute_result"
    }
   ],
   "source": [
    "df_ipo_filings"
   ]
  },
  {
   "cell_type": "code",
   "execution_count": 10,
   "metadata": {},
   "outputs": [
    {
     "data": {
      "text/html": [
       "<div>\n",
       "<style scoped>\n",
       "    .dataframe tbody tr th:only-of-type {\n",
       "        vertical-align: middle;\n",
       "    }\n",
       "\n",
       "    .dataframe tbody tr th {\n",
       "        vertical-align: top;\n",
       "    }\n",
       "\n",
       "    .dataframe thead th {\n",
       "        text-align: right;\n",
       "    }\n",
       "</style>\n",
       "<table border=\"1\" class=\"dataframe\">\n",
       "  <thead>\n",
       "    <tr style=\"text-align: right;\">\n",
       "      <th></th>\n",
       "      <th>Filing Date</th>\n",
       "      <th>Symbol</th>\n",
       "      <th>Company Name</th>\n",
       "      <th>Price Range</th>\n",
       "      <th>Shares Offered</th>\n",
       "      <th>avg_price</th>\n",
       "    </tr>\n",
       "  </thead>\n",
       "  <tbody>\n",
       "    <tr>\n",
       "      <th>0</th>\n",
       "      <td>2024-05-03</td>\n",
       "      <td>TBN</td>\n",
       "      <td>Tamboran Resources Corporation</td>\n",
       "      <td>-</td>\n",
       "      <td>0.0</td>\n",
       "      <td>0.00</td>\n",
       "    </tr>\n",
       "    <tr>\n",
       "      <th>1</th>\n",
       "      <td>2024-04-29</td>\n",
       "      <td>HWEC</td>\n",
       "      <td>HW Electro Co., Ltd.</td>\n",
       "      <td>$3.00</td>\n",
       "      <td>3750000.0</td>\n",
       "      <td>3.00</td>\n",
       "    </tr>\n",
       "    <tr>\n",
       "      <th>2</th>\n",
       "      <td>2024-04-29</td>\n",
       "      <td>DTSQ</td>\n",
       "      <td>DT Cloud Star Acquisition Corporation</td>\n",
       "      <td>$10.00</td>\n",
       "      <td>6000000.0</td>\n",
       "      <td>10.00</td>\n",
       "    </tr>\n",
       "    <tr>\n",
       "      <th>3</th>\n",
       "      <td>2024-04-26</td>\n",
       "      <td>EURK</td>\n",
       "      <td>Eureka Acquisition Corp</td>\n",
       "      <td>$10.00</td>\n",
       "      <td>5000000.0</td>\n",
       "      <td>10.00</td>\n",
       "    </tr>\n",
       "    <tr>\n",
       "      <th>4</th>\n",
       "      <td>2024-04-26</td>\n",
       "      <td>HDL</td>\n",
       "      <td>Super Hi International Holding Ltd.</td>\n",
       "      <td>-</td>\n",
       "      <td>0.0</td>\n",
       "      <td>0.00</td>\n",
       "    </tr>\n",
       "    <tr>\n",
       "      <th>...</th>\n",
       "      <td>...</td>\n",
       "      <td>...</td>\n",
       "      <td>...</td>\n",
       "      <td>...</td>\n",
       "      <td>...</td>\n",
       "      <td>...</td>\n",
       "    </tr>\n",
       "    <tr>\n",
       "      <th>320</th>\n",
       "      <td>2020-01-21</td>\n",
       "      <td>GOXS</td>\n",
       "      <td>Goxus, Inc.</td>\n",
       "      <td>$8.00 - $10.00</td>\n",
       "      <td>1500000.0</td>\n",
       "      <td>9.00</td>\n",
       "    </tr>\n",
       "    <tr>\n",
       "      <th>321</th>\n",
       "      <td>2020-01-21</td>\n",
       "      <td>UTXO</td>\n",
       "      <td>UTXO Acquisition, Inc.</td>\n",
       "      <td>$10.00</td>\n",
       "      <td>5000000.0</td>\n",
       "      <td>10.00</td>\n",
       "    </tr>\n",
       "    <tr>\n",
       "      <th>322</th>\n",
       "      <td>2019-12-09</td>\n",
       "      <td>LOHA</td>\n",
       "      <td>Loha Co. Ltd</td>\n",
       "      <td>$8.00 - $10.00</td>\n",
       "      <td>2500000.0</td>\n",
       "      <td>9.00</td>\n",
       "    </tr>\n",
       "    <tr>\n",
       "      <th>323</th>\n",
       "      <td>2019-10-04</td>\n",
       "      <td>ZGHB</td>\n",
       "      <td>China Eco-Materials Group Co. Limited</td>\n",
       "      <td>$4.00</td>\n",
       "      <td>4300000.0</td>\n",
       "      <td>4.00</td>\n",
       "    </tr>\n",
       "    <tr>\n",
       "      <th>324</th>\n",
       "      <td>2018-12-27</td>\n",
       "      <td>FBOX</td>\n",
       "      <td>Fit Boxx Holdings Limited</td>\n",
       "      <td>$5.00 - $6.50</td>\n",
       "      <td>2000000.0</td>\n",
       "      <td>5.75</td>\n",
       "    </tr>\n",
       "  </tbody>\n",
       "</table>\n",
       "<p>325 rows × 6 columns</p>\n",
       "</div>"
      ],
      "text/plain": [
       "    Filing Date Symbol                           Company Name     Price Range  \\\n",
       "0    2024-05-03    TBN         Tamboran Resources Corporation               -   \n",
       "1    2024-04-29   HWEC                   HW Electro Co., Ltd.           $3.00   \n",
       "2    2024-04-29   DTSQ  DT Cloud Star Acquisition Corporation          $10.00   \n",
       "3    2024-04-26   EURK                Eureka Acquisition Corp          $10.00   \n",
       "4    2024-04-26    HDL    Super Hi International Holding Ltd.               -   \n",
       "..          ...    ...                                    ...             ...   \n",
       "320  2020-01-21   GOXS                            Goxus, Inc.  $8.00 - $10.00   \n",
       "321  2020-01-21   UTXO                 UTXO Acquisition, Inc.          $10.00   \n",
       "322  2019-12-09   LOHA                           Loha Co. Ltd  $8.00 - $10.00   \n",
       "323  2019-10-04   ZGHB  China Eco-Materials Group Co. Limited           $4.00   \n",
       "324  2018-12-27   FBOX              Fit Boxx Holdings Limited   $5.00 - $6.50   \n",
       "\n",
       "     Shares Offered  avg_price  \n",
       "0               0.0       0.00  \n",
       "1         3750000.0       3.00  \n",
       "2         6000000.0      10.00  \n",
       "3         5000000.0      10.00  \n",
       "4               0.0       0.00  \n",
       "..              ...        ...  \n",
       "320       1500000.0       9.00  \n",
       "321       5000000.0      10.00  \n",
       "322       2500000.0       9.00  \n",
       "323       4300000.0       4.00  \n",
       "324       2000000.0       5.75  \n",
       "\n",
       "[325 rows x 6 columns]"
      ]
     },
     "execution_count": 10,
     "metadata": {},
     "output_type": "execute_result"
    }
   ],
   "source": [
    "df_ipo_filings['avg_price'] = df_ipo_filings['Price Range'].apply(average_price_range).fillna(0)\n",
    "df_ipo_filings"
   ]
  },
  {
   "cell_type": "code",
   "execution_count": 11,
   "metadata": {},
   "outputs": [
    {
     "data": {
      "text/html": [
       "<div>\n",
       "<style scoped>\n",
       "    .dataframe tbody tr th:only-of-type {\n",
       "        vertical-align: middle;\n",
       "    }\n",
       "\n",
       "    .dataframe tbody tr th {\n",
       "        vertical-align: top;\n",
       "    }\n",
       "\n",
       "    .dataframe thead th {\n",
       "        text-align: right;\n",
       "    }\n",
       "</style>\n",
       "<table border=\"1\" class=\"dataframe\">\n",
       "  <thead>\n",
       "    <tr style=\"text-align: right;\">\n",
       "      <th></th>\n",
       "      <th>Filing Date</th>\n",
       "      <th>Symbol</th>\n",
       "      <th>Company Name</th>\n",
       "      <th>Price Range</th>\n",
       "      <th>Shares Offered</th>\n",
       "      <th>avg_price</th>\n",
       "      <th>shares_offered_value</th>\n",
       "    </tr>\n",
       "  </thead>\n",
       "  <tbody>\n",
       "    <tr>\n",
       "      <th>0</th>\n",
       "      <td>2024-05-03</td>\n",
       "      <td>TBN</td>\n",
       "      <td>Tamboran Resources Corporation</td>\n",
       "      <td>-</td>\n",
       "      <td>0.0</td>\n",
       "      <td>0.00</td>\n",
       "      <td>0.0</td>\n",
       "    </tr>\n",
       "    <tr>\n",
       "      <th>1</th>\n",
       "      <td>2024-04-29</td>\n",
       "      <td>HWEC</td>\n",
       "      <td>HW Electro Co., Ltd.</td>\n",
       "      <td>$3.00</td>\n",
       "      <td>3750000.0</td>\n",
       "      <td>3.00</td>\n",
       "      <td>11250000.0</td>\n",
       "    </tr>\n",
       "    <tr>\n",
       "      <th>2</th>\n",
       "      <td>2024-04-29</td>\n",
       "      <td>DTSQ</td>\n",
       "      <td>DT Cloud Star Acquisition Corporation</td>\n",
       "      <td>$10.00</td>\n",
       "      <td>6000000.0</td>\n",
       "      <td>10.00</td>\n",
       "      <td>60000000.0</td>\n",
       "    </tr>\n",
       "    <tr>\n",
       "      <th>3</th>\n",
       "      <td>2024-04-26</td>\n",
       "      <td>EURK</td>\n",
       "      <td>Eureka Acquisition Corp</td>\n",
       "      <td>$10.00</td>\n",
       "      <td>5000000.0</td>\n",
       "      <td>10.00</td>\n",
       "      <td>50000000.0</td>\n",
       "    </tr>\n",
       "    <tr>\n",
       "      <th>4</th>\n",
       "      <td>2024-04-26</td>\n",
       "      <td>HDL</td>\n",
       "      <td>Super Hi International Holding Ltd.</td>\n",
       "      <td>-</td>\n",
       "      <td>0.0</td>\n",
       "      <td>0.00</td>\n",
       "      <td>0.0</td>\n",
       "    </tr>\n",
       "    <tr>\n",
       "      <th>...</th>\n",
       "      <td>...</td>\n",
       "      <td>...</td>\n",
       "      <td>...</td>\n",
       "      <td>...</td>\n",
       "      <td>...</td>\n",
       "      <td>...</td>\n",
       "      <td>...</td>\n",
       "    </tr>\n",
       "    <tr>\n",
       "      <th>320</th>\n",
       "      <td>2020-01-21</td>\n",
       "      <td>GOXS</td>\n",
       "      <td>Goxus, Inc.</td>\n",
       "      <td>$8.00 - $10.00</td>\n",
       "      <td>1500000.0</td>\n",
       "      <td>9.00</td>\n",
       "      <td>13500000.0</td>\n",
       "    </tr>\n",
       "    <tr>\n",
       "      <th>321</th>\n",
       "      <td>2020-01-21</td>\n",
       "      <td>UTXO</td>\n",
       "      <td>UTXO Acquisition, Inc.</td>\n",
       "      <td>$10.00</td>\n",
       "      <td>5000000.0</td>\n",
       "      <td>10.00</td>\n",
       "      <td>50000000.0</td>\n",
       "    </tr>\n",
       "    <tr>\n",
       "      <th>322</th>\n",
       "      <td>2019-12-09</td>\n",
       "      <td>LOHA</td>\n",
       "      <td>Loha Co. Ltd</td>\n",
       "      <td>$8.00 - $10.00</td>\n",
       "      <td>2500000.0</td>\n",
       "      <td>9.00</td>\n",
       "      <td>22500000.0</td>\n",
       "    </tr>\n",
       "    <tr>\n",
       "      <th>323</th>\n",
       "      <td>2019-10-04</td>\n",
       "      <td>ZGHB</td>\n",
       "      <td>China Eco-Materials Group Co. Limited</td>\n",
       "      <td>$4.00</td>\n",
       "      <td>4300000.0</td>\n",
       "      <td>4.00</td>\n",
       "      <td>17200000.0</td>\n",
       "    </tr>\n",
       "    <tr>\n",
       "      <th>324</th>\n",
       "      <td>2018-12-27</td>\n",
       "      <td>FBOX</td>\n",
       "      <td>Fit Boxx Holdings Limited</td>\n",
       "      <td>$5.00 - $6.50</td>\n",
       "      <td>2000000.0</td>\n",
       "      <td>5.75</td>\n",
       "      <td>11500000.0</td>\n",
       "    </tr>\n",
       "  </tbody>\n",
       "</table>\n",
       "<p>325 rows × 7 columns</p>\n",
       "</div>"
      ],
      "text/plain": [
       "    Filing Date Symbol                           Company Name     Price Range  \\\n",
       "0    2024-05-03    TBN         Tamboran Resources Corporation               -   \n",
       "1    2024-04-29   HWEC                   HW Electro Co., Ltd.           $3.00   \n",
       "2    2024-04-29   DTSQ  DT Cloud Star Acquisition Corporation          $10.00   \n",
       "3    2024-04-26   EURK                Eureka Acquisition Corp          $10.00   \n",
       "4    2024-04-26    HDL    Super Hi International Holding Ltd.               -   \n",
       "..          ...    ...                                    ...             ...   \n",
       "320  2020-01-21   GOXS                            Goxus, Inc.  $8.00 - $10.00   \n",
       "321  2020-01-21   UTXO                 UTXO Acquisition, Inc.          $10.00   \n",
       "322  2019-12-09   LOHA                           Loha Co. Ltd  $8.00 - $10.00   \n",
       "323  2019-10-04   ZGHB  China Eco-Materials Group Co. Limited           $4.00   \n",
       "324  2018-12-27   FBOX              Fit Boxx Holdings Limited   $5.00 - $6.50   \n",
       "\n",
       "     Shares Offered  avg_price  shares_offered_value  \n",
       "0               0.0       0.00                   0.0  \n",
       "1         3750000.0       3.00            11250000.0  \n",
       "2         6000000.0      10.00            60000000.0  \n",
       "3         5000000.0      10.00            50000000.0  \n",
       "4               0.0       0.00                   0.0  \n",
       "..              ...        ...                   ...  \n",
       "320       1500000.0       9.00            13500000.0  \n",
       "321       5000000.0      10.00            50000000.0  \n",
       "322       2500000.0       9.00            22500000.0  \n",
       "323       4300000.0       4.00            17200000.0  \n",
       "324       2000000.0       5.75            11500000.0  \n",
       "\n",
       "[325 rows x 7 columns]"
      ]
     },
     "execution_count": 11,
     "metadata": {},
     "output_type": "execute_result"
    }
   ],
   "source": [
    "df_ipo_filings['shares_offered_value'] = df_ipo_filings['Shares Offered'] * df_ipo_filings['avg_price']\n",
    "df_ipo_filings"
   ]
  },
  {
   "cell_type": "code",
   "execution_count": 12,
   "metadata": {},
   "outputs": [],
   "source": [
    "df_ipo_fri_2023 = df_ipo_filings[(df_ipo_filings['Filing Date'].dt.dayofweek == 4) & (df_ipo_filings['Filing Date'].dt.year == 2023)]\n",
    "q1_ans = df_ipo_fri_2023.groupby('Filing Date').agg(totalsum=('shares_offered_value', 'sum')).reset_index()"
   ]
  },
  {
   "cell_type": "code",
   "execution_count": 13,
   "metadata": {},
   "outputs": [
    {
     "data": {
      "text/plain": [
       "285.0"
      ]
     },
     "execution_count": 13,
     "metadata": {},
     "output_type": "execute_result"
    }
   ],
   "source": [
    "q1_ans['totalsum_M'] = round(q1_ans['totalsum']/1e6)\n",
    "q1_ans.totalsum_M.sum()"
   ]
  },
  {
   "cell_type": "markdown",
   "metadata": {},
   "source": [
    "# Q2"
   ]
  },
  {
   "cell_type": "code",
   "execution_count": 14,
   "metadata": {},
   "outputs": [
    {
     "name": "stderr",
     "output_type": "stream",
     "text": [
      "C:\\Users\\sean.chang\\AppData\\Local\\Temp\\ipykernel_8196\\4258465984.py:11: FutureWarning: Passing literal html to 'read_html' is deprecated and will be removed in a future version. To read from a literal string, wrap it in a 'StringIO' object.\n",
      "  ipo_raw = pd.read_html(response.text)\n",
      "C:\\Users\\sean.chang\\AppData\\Local\\Temp\\ipykernel_8196\\4258465984.py:11: FutureWarning: Passing literal html to 'read_html' is deprecated and will be removed in a future version. To read from a literal string, wrap it in a 'StringIO' object.\n",
      "  ipo_raw = pd.read_html(response.text)\n"
     ]
    }
   ],
   "source": [
    "df_ipo_2023 = get_ipo_data(\"2023\")\n",
    "df_ipo_2024 = get_ipo_data(\"2024\")"
   ]
  },
  {
   "cell_type": "code",
   "execution_count": 15,
   "metadata": {},
   "outputs": [
    {
     "data": {
      "text/html": [
       "<div>\n",
       "<style scoped>\n",
       "    .dataframe tbody tr th:only-of-type {\n",
       "        vertical-align: middle;\n",
       "    }\n",
       "\n",
       "    .dataframe tbody tr th {\n",
       "        vertical-align: top;\n",
       "    }\n",
       "\n",
       "    .dataframe thead th {\n",
       "        text-align: right;\n",
       "    }\n",
       "</style>\n",
       "<table border=\"1\" class=\"dataframe\">\n",
       "  <thead>\n",
       "    <tr style=\"text-align: right;\">\n",
       "      <th></th>\n",
       "      <th>IPO Date</th>\n",
       "      <th>Symbol</th>\n",
       "      <th>Company Name</th>\n",
       "      <th>IPO Price</th>\n",
       "      <th>Current</th>\n",
       "      <th>Return</th>\n",
       "    </tr>\n",
       "  </thead>\n",
       "  <tbody>\n",
       "    <tr>\n",
       "      <th>0</th>\n",
       "      <td>May 1, 2024</td>\n",
       "      <td>VIK</td>\n",
       "      <td>Viking Holdings Ltd.</td>\n",
       "      <td>$24.00</td>\n",
       "      <td>$28.65</td>\n",
       "      <td>19.38%</td>\n",
       "    </tr>\n",
       "    <tr>\n",
       "      <th>1</th>\n",
       "      <td>Apr 26, 2024</td>\n",
       "      <td>ZONE</td>\n",
       "      <td>CleanCore Solutions, Inc.</td>\n",
       "      <td>$4.00</td>\n",
       "      <td>$3.15</td>\n",
       "      <td>-21.25%</td>\n",
       "    </tr>\n",
       "    <tr>\n",
       "      <th>2</th>\n",
       "      <td>Apr 25, 2024</td>\n",
       "      <td>RBRK</td>\n",
       "      <td>Rubrik, Inc.</td>\n",
       "      <td>$32.00</td>\n",
       "      <td>$33.77</td>\n",
       "      <td>5.53%</td>\n",
       "    </tr>\n",
       "    <tr>\n",
       "      <th>3</th>\n",
       "      <td>Apr 25, 2024</td>\n",
       "      <td>LOAR</td>\n",
       "      <td>Loar Holdings Inc.</td>\n",
       "      <td>$28.00</td>\n",
       "      <td>$49.83</td>\n",
       "      <td>77.96%</td>\n",
       "    </tr>\n",
       "    <tr>\n",
       "      <th>4</th>\n",
       "      <td>Apr 25, 2024</td>\n",
       "      <td>MRX</td>\n",
       "      <td>Marex Group plc</td>\n",
       "      <td>$19.00</td>\n",
       "      <td>$19.17</td>\n",
       "      <td>0.89%</td>\n",
       "    </tr>\n",
       "  </tbody>\n",
       "</table>\n",
       "</div>"
      ],
      "text/plain": [
       "       IPO Date Symbol               Company Name IPO Price Current   Return\n",
       "0   May 1, 2024    VIK       Viking Holdings Ltd.    $24.00  $28.65   19.38%\n",
       "1  Apr 26, 2024   ZONE  CleanCore Solutions, Inc.     $4.00   $3.15  -21.25%\n",
       "2  Apr 25, 2024   RBRK               Rubrik, Inc.    $32.00  $33.77    5.53%\n",
       "3  Apr 25, 2024   LOAR         Loar Holdings Inc.    $28.00  $49.83   77.96%\n",
       "4  Apr 25, 2024    MRX            Marex Group plc    $19.00  $19.17    0.89%"
      ]
     },
     "execution_count": 15,
     "metadata": {},
     "output_type": "execute_result"
    }
   ],
   "source": [
    "df_ipo_2024.head()"
   ]
  },
  {
   "cell_type": "code",
   "execution_count": 16,
   "metadata": {},
   "outputs": [],
   "source": [
    "df_ipo = pd.concat([df_ipo_2023, df_ipo_2024], axis=0)\n",
    "df_ipo = df_ipo[df_ipo['Symbol'] != 'RYZB']"
   ]
  },
  {
   "cell_type": "code",
   "execution_count": 17,
   "metadata": {},
   "outputs": [
    {
     "data": {
      "text/html": [
       "<div>\n",
       "<style scoped>\n",
       "    .dataframe tbody tr th:only-of-type {\n",
       "        vertical-align: middle;\n",
       "    }\n",
       "\n",
       "    .dataframe tbody tr th {\n",
       "        vertical-align: top;\n",
       "    }\n",
       "\n",
       "    .dataframe thead th {\n",
       "        text-align: right;\n",
       "    }\n",
       "</style>\n",
       "<table border=\"1\" class=\"dataframe\">\n",
       "  <thead>\n",
       "    <tr style=\"text-align: right;\">\n",
       "      <th></th>\n",
       "      <th>IPO Date</th>\n",
       "      <th>Symbol</th>\n",
       "      <th>Company Name</th>\n",
       "      <th>IPO Price</th>\n",
       "      <th>Current</th>\n",
       "      <th>Return</th>\n",
       "    </tr>\n",
       "  </thead>\n",
       "  <tbody>\n",
       "    <tr>\n",
       "      <th>0</th>\n",
       "      <td>Dec 27, 2023</td>\n",
       "      <td>IROH</td>\n",
       "      <td>Iron Horse Acquisitions Corp.</td>\n",
       "      <td>$10.00</td>\n",
       "      <td>$10.05</td>\n",
       "      <td>0.50%</td>\n",
       "    </tr>\n",
       "  </tbody>\n",
       "</table>\n",
       "</div>"
      ],
      "text/plain": [
       "       IPO Date Symbol                   Company Name IPO Price Current Return\n",
       "0  Dec 27, 2023   IROH  Iron Horse Acquisitions Corp.    $10.00  $10.05  0.50%"
      ]
     },
     "execution_count": 17,
     "metadata": {},
     "output_type": "execute_result"
    }
   ],
   "source": [
    "df_ipo[df_ipo['Symbol'] == 'IROH']"
   ]
  },
  {
   "cell_type": "code",
   "execution_count": 18,
   "metadata": {},
   "outputs": [],
   "source": [
    "ticket_list = df_ipo['Symbol'].to_list()"
   ]
  },
  {
   "cell_type": "code",
   "execution_count": 19,
   "metadata": {},
   "outputs": [],
   "source": [
    "def download_ipo_data(ticket_list):\n",
    "    dataframes = {}\n",
    "\n",
    "    for i in ticket_list:\n",
    "        df = yf.download(tickers=i, period='max', interval='1d')\n",
    "\n",
    "        if not df.empty:\n",
    "            dataframes[f'df_{i}'] = df\n",
    "        else:\n",
    "            print(f'No data found for {i}')\n",
    "\n",
    "    return dataframes"
   ]
  },
  {
   "cell_type": "code",
   "execution_count": 20,
   "metadata": {},
   "outputs": [
    {
     "name": "stderr",
     "output_type": "stream",
     "text": [
      "[*********************100%%**********************]  1 of 1 completed\n",
      "[*********************100%%**********************]  1 of 1 completed\n",
      "[*********************100%%**********************]  1 of 1 completed\n",
      "[*********************100%%**********************]  1 of 1 completed\n",
      "[*********************100%%**********************]  1 of 1 completed\n",
      "[*********************100%%**********************]  1 of 1 completed\n",
      "[*********************100%%**********************]  1 of 1 completed\n",
      "[*********************100%%**********************]  1 of 1 completed\n",
      "[*********************100%%**********************]  1 of 1 completed\n",
      "[*********************100%%**********************]  1 of 1 completed\n",
      "[*********************100%%**********************]  1 of 1 completed\n",
      "[*********************100%%**********************]  1 of 1 completed\n",
      "[*********************100%%**********************]  1 of 1 completed\n",
      "[*********************100%%**********************]  1 of 1 completed\n",
      "[*********************100%%**********************]  1 of 1 completed\n",
      "[*********************100%%**********************]  1 of 1 completed\n",
      "[*********************100%%**********************]  1 of 1 completed\n",
      "[*********************100%%**********************]  1 of 1 completed\n",
      "[*********************100%%**********************]  1 of 1 completed\n",
      "[*********************100%%**********************]  1 of 1 completed\n",
      "[*********************100%%**********************]  1 of 1 completed\n",
      "[*********************100%%**********************]  1 of 1 completed\n",
      "[*********************100%%**********************]  1 of 1 completed\n",
      "[*********************100%%**********************]  1 of 1 completed\n",
      "[*********************100%%**********************]  1 of 1 completed\n",
      "[*********************100%%**********************]  1 of 1 completed\n",
      "[*********************100%%**********************]  1 of 1 completed\n",
      "[*********************100%%**********************]  1 of 1 completed\n",
      "[*********************100%%**********************]  1 of 1 completed\n",
      "[*********************100%%**********************]  1 of 1 completed\n",
      "[*********************100%%**********************]  1 of 1 completed\n",
      "[*********************100%%**********************]  1 of 1 completed\n",
      "[*********************100%%**********************]  1 of 1 completed\n",
      "[*********************100%%**********************]  1 of 1 completed\n",
      "[*********************100%%**********************]  1 of 1 completed\n",
      "[*********************100%%**********************]  1 of 1 completed\n",
      "[*********************100%%**********************]  1 of 1 completed\n",
      "[*********************100%%**********************]  1 of 1 completed\n",
      "[*********************100%%**********************]  1 of 1 completed\n",
      "[*********************100%%**********************]  1 of 1 completed\n",
      "[*********************100%%**********************]  1 of 1 completed\n",
      "[*********************100%%**********************]  1 of 1 completed\n",
      "[*********************100%%**********************]  1 of 1 completed\n",
      "[*********************100%%**********************]  1 of 1 completed\n",
      "[*********************100%%**********************]  1 of 1 completed\n",
      "[*********************100%%**********************]  1 of 1 completed\n",
      "[*********************100%%**********************]  1 of 1 completed\n",
      "[*********************100%%**********************]  1 of 1 completed\n",
      "[*********************100%%**********************]  1 of 1 completed\n",
      "[*********************100%%**********************]  1 of 1 completed\n",
      "[*********************100%%**********************]  1 of 1 completed\n",
      "[*********************100%%**********************]  1 of 1 completed\n",
      "[*********************100%%**********************]  1 of 1 completed\n",
      "[*********************100%%**********************]  1 of 1 completed\n",
      "[*********************100%%**********************]  1 of 1 completed\n",
      "[*********************100%%**********************]  1 of 1 completed\n",
      "[*********************100%%**********************]  1 of 1 completed\n",
      "[*********************100%%**********************]  1 of 1 completed\n",
      "[*********************100%%**********************]  1 of 1 completed\n",
      "[*********************100%%**********************]  1 of 1 completed\n",
      "[*********************100%%**********************]  1 of 1 completed\n",
      "[*********************100%%**********************]  1 of 1 completed\n",
      "[*********************100%%**********************]  1 of 1 completed\n",
      "[*********************100%%**********************]  1 of 1 completed\n",
      "[*********************100%%**********************]  1 of 1 completed\n",
      "[*********************100%%**********************]  1 of 1 completed\n",
      "[*********************100%%**********************]  1 of 1 completed\n",
      "[*********************100%%**********************]  1 of 1 completed\n",
      "[*********************100%%**********************]  1 of 1 completed\n",
      "[*********************100%%**********************]  1 of 1 completed\n",
      "[*********************100%%**********************]  1 of 1 completed\n",
      "[*********************100%%**********************]  1 of 1 completed\n",
      "[*********************100%%**********************]  1 of 1 completed\n",
      "[*********************100%%**********************]  1 of 1 completed\n",
      "[*********************100%%**********************]  1 of 1 completed\n",
      "[*********************100%%**********************]  1 of 1 completed\n",
      "[*********************100%%**********************]  1 of 1 completed\n",
      "[*********************100%%**********************]  1 of 1 completed\n",
      "[*********************100%%**********************]  1 of 1 completed\n",
      "[*********************100%%**********************]  1 of 1 completed\n",
      "[*********************100%%**********************]  1 of 1 completed\n",
      "[*********************100%%**********************]  1 of 1 completed\n",
      "[*********************100%%**********************]  1 of 1 completed\n",
      "[*********************100%%**********************]  1 of 1 completed\n",
      "[*********************100%%**********************]  1 of 1 completed\n",
      "[*********************100%%**********************]  1 of 1 completed\n",
      "[*********************100%%**********************]  1 of 1 completed\n",
      "[*********************100%%**********************]  1 of 1 completed\n",
      "[*********************100%%**********************]  1 of 1 completed\n",
      "[*********************100%%**********************]  1 of 1 completed\n",
      "[*********************100%%**********************]  1 of 1 completed\n",
      "[*********************100%%**********************]  1 of 1 completed\n",
      "[*********************100%%**********************]  1 of 1 completed\n",
      "[*********************100%%**********************]  1 of 1 completed\n",
      "[*********************100%%**********************]  1 of 1 completed\n",
      "[*********************100%%**********************]  1 of 1 completed\n",
      "[*********************100%%**********************]  1 of 1 completed\n",
      "[*********************100%%**********************]  1 of 1 completed\n",
      "[*********************100%%**********************]  1 of 1 completed\n",
      "[*********************100%%**********************]  1 of 1 completed\n",
      "[*********************100%%**********************]  1 of 1 completed\n",
      "[*********************100%%**********************]  1 of 1 completed\n",
      "[*********************100%%**********************]  1 of 1 completed\n",
      "[*********************100%%**********************]  1 of 1 completed\n",
      "[*********************100%%**********************]  1 of 1 completed\n",
      "[*********************100%%**********************]  1 of 1 completed\n",
      "[*********************100%%**********************]  1 of 1 completed\n",
      "[*********************100%%**********************]  1 of 1 completed\n",
      "[*********************100%%**********************]  1 of 1 completed\n",
      "[*********************100%%**********************]  1 of 1 completed\n",
      "[*********************100%%**********************]  1 of 1 completed\n",
      "[*********************100%%**********************]  1 of 1 completed\n",
      "[*********************100%%**********************]  1 of 1 completed\n",
      "[*********************100%%**********************]  1 of 1 completed\n",
      "[*********************100%%**********************]  1 of 1 completed\n",
      "[*********************100%%**********************]  1 of 1 completed\n",
      "[*********************100%%**********************]  1 of 1 completed\n",
      "[*********************100%%**********************]  1 of 1 completed\n",
      "[*********************100%%**********************]  1 of 1 completed\n",
      "[*********************100%%**********************]  1 of 1 completed\n",
      "[*********************100%%**********************]  1 of 1 completed\n",
      "[*********************100%%**********************]  1 of 1 completed\n",
      "[*********************100%%**********************]  1 of 1 completed\n",
      "[*********************100%%**********************]  1 of 1 completed\n",
      "[*********************100%%**********************]  1 of 1 completed\n",
      "[*********************100%%**********************]  1 of 1 completed\n",
      "[*********************100%%**********************]  1 of 1 completed\n",
      "[*********************100%%**********************]  1 of 1 completed\n",
      "[*********************100%%**********************]  1 of 1 completed\n",
      "[*********************100%%**********************]  1 of 1 completed\n",
      "[*********************100%%**********************]  1 of 1 completed\n",
      "[*********************100%%**********************]  1 of 1 completed\n",
      "[*********************100%%**********************]  1 of 1 completed\n",
      "[*********************100%%**********************]  1 of 1 completed\n",
      "[*********************100%%**********************]  1 of 1 completed\n",
      "[*********************100%%**********************]  1 of 1 completed\n",
      "[*********************100%%**********************]  1 of 1 completed\n",
      "\n",
      "1 Failed download:\n",
      "['PTHR']: Exception('%ticker%: No timezone found, symbol may be delisted')\n",
      "[*********************100%%**********************]  1 of 1 completed\n",
      "[*********************100%%**********************]  1 of 1 completed\n"
     ]
    },
    {
     "name": "stdout",
     "output_type": "stream",
     "text": [
      "No data found for PTHR\n"
     ]
    },
    {
     "name": "stderr",
     "output_type": "stream",
     "text": [
      "[*********************100%%**********************]  1 of 1 completed\n",
      "[*********************100%%**********************]  1 of 1 completed\n",
      "[*********************100%%**********************]  1 of 1 completed\n",
      "[*********************100%%**********************]  1 of 1 completed\n",
      "[*********************100%%**********************]  1 of 1 completed\n",
      "[*********************100%%**********************]  1 of 1 completed\n",
      "[*********************100%%**********************]  1 of 1 completed\n",
      "[*********************100%%**********************]  1 of 1 completed\n",
      "[*********************100%%**********************]  1 of 1 completed\n",
      "[*********************100%%**********************]  1 of 1 completed\n",
      "[*********************100%%**********************]  1 of 1 completed\n",
      "[*********************100%%**********************]  1 of 1 completed\n",
      "[*********************100%%**********************]  1 of 1 completed\n",
      "[*********************100%%**********************]  1 of 1 completed\n",
      "[*********************100%%**********************]  1 of 1 completed\n",
      "[*********************100%%**********************]  1 of 1 completed\n",
      "[*********************100%%**********************]  1 of 1 completed\n",
      "[*********************100%%**********************]  1 of 1 completed\n",
      "[*********************100%%**********************]  1 of 1 completed\n",
      "[*********************100%%**********************]  1 of 1 completed\n",
      "[*********************100%%**********************]  1 of 1 completed\n",
      "[*********************100%%**********************]  1 of 1 completed\n",
      "[*********************100%%**********************]  1 of 1 completed\n",
      "[*********************100%%**********************]  1 of 1 completed\n",
      "[*********************100%%**********************]  1 of 1 completed\n",
      "[*********************100%%**********************]  1 of 1 completed\n",
      "[*********************100%%**********************]  1 of 1 completed\n",
      "[*********************100%%**********************]  1 of 1 completed\n",
      "[*********************100%%**********************]  1 of 1 completed\n",
      "[*********************100%%**********************]  1 of 1 completed\n",
      "[*********************100%%**********************]  1 of 1 completed\n",
      "[*********************100%%**********************]  1 of 1 completed\n",
      "[*********************100%%**********************]  1 of 1 completed\n",
      "[*********************100%%**********************]  1 of 1 completed\n",
      "[*********************100%%**********************]  1 of 1 completed\n",
      "[*********************100%%**********************]  1 of 1 completed\n",
      "[*********************100%%**********************]  1 of 1 completed\n",
      "[*********************100%%**********************]  1 of 1 completed\n",
      "[*********************100%%**********************]  1 of 1 completed\n",
      "[*********************100%%**********************]  1 of 1 completed\n",
      "[*********************100%%**********************]  1 of 1 completed\n",
      "[*********************100%%**********************]  1 of 1 completed\n",
      "\n",
      "1 Failed download:\n",
      "['BKHA']: Exception('%ticker%: No timezone found, symbol may be delisted')\n",
      "[*********************100%%**********************]  1 of 1 completed\n",
      "[*********************100%%**********************]  1 of 1 completed\n"
     ]
    },
    {
     "name": "stdout",
     "output_type": "stream",
     "text": [
      "No data found for BKHA\n"
     ]
    },
    {
     "name": "stderr",
     "output_type": "stream",
     "text": [
      "[*********************100%%**********************]  1 of 1 completed\n",
      "[*********************100%%**********************]  1 of 1 completed\n",
      "[*********************100%%**********************]  1 of 1 completed\n",
      "[*********************100%%**********************]  1 of 1 completed\n",
      "[*********************100%%**********************]  1 of 1 completed\n",
      "[*********************100%%**********************]  1 of 1 completed\n",
      "[*********************100%%**********************]  1 of 1 completed\n",
      "[*********************100%%**********************]  1 of 1 completed\n",
      "[*********************100%%**********************]  1 of 1 completed\n",
      "[*********************100%%**********************]  1 of 1 completed\n",
      "[*********************100%%**********************]  1 of 1 completed\n",
      "[*********************100%%**********************]  1 of 1 completed\n",
      "[*********************100%%**********************]  1 of 1 completed\n",
      "[*********************100%%**********************]  1 of 1 completed\n",
      "[*********************100%%**********************]  1 of 1 completed\n",
      "[*********************100%%**********************]  1 of 1 completed\n",
      "[*********************100%%**********************]  1 of 1 completed\n",
      "[*********************100%%**********************]  1 of 1 completed\n",
      "[*********************100%%**********************]  1 of 1 completed\n",
      "[*********************100%%**********************]  1 of 1 completed\n",
      "[*********************100%%**********************]  1 of 1 completed\n",
      "[*********************100%%**********************]  1 of 1 completed\n",
      "[*********************100%%**********************]  1 of 1 completed\n",
      "[*********************100%%**********************]  1 of 1 completed\n",
      "[*********************100%%**********************]  1 of 1 completed\n",
      "[*********************100%%**********************]  1 of 1 completed\n",
      "[*********************100%%**********************]  1 of 1 completed\n",
      "[*********************100%%**********************]  1 of 1 completed\n",
      "[*********************100%%**********************]  1 of 1 completed\n",
      "[*********************100%%**********************]  1 of 1 completed\n",
      "[*********************100%%**********************]  1 of 1 completed\n",
      "[*********************100%%**********************]  1 of 1 completed\n",
      "[*********************100%%**********************]  1 of 1 completed\n",
      "[*********************100%%**********************]  1 of 1 completed\n"
     ]
    }
   ],
   "source": [
    "stock_data_dfs = download_ipo_data(ticket_list)"
   ]
  },
  {
   "cell_type": "code",
   "execution_count": 21,
   "metadata": {},
   "outputs": [],
   "source": [
    "# Define the columns\n",
    "columns = ['symbol', 'optimal_day', 'highest_quantile']\n",
    "\n",
    "# Create an empty list to store data rows\n",
    "result = pd.DataFrame()\n",
    "\n",
    "for symbol, df in stock_data_dfs.items():\n",
    "    \n",
    "    temp_result = pd.DataFrame({'symbol':[symbol]})\n",
    "    # Calculate growth rates\n",
    "    for i in range(1, 31):\n",
    "        # Ensure that there is an element at index i after the shift\n",
    "        if i < len(df):  # Check if 'i' is a valid index in the DataFrame after the shift\n",
    "            growth_value = (df['Adj Close'] / df['Adj Close'].shift(i)).iloc[i]\n",
    "            temp = pd.DataFrame({\n",
    "                'symbol': [symbol],\n",
    "                f'growth_future_' + str(i) + 'd': [growth_value]\n",
    "            })  # Using a consistent index [0] for easy concatenation\n",
    "            temp_result = pd.merge(temp_result, temp, how='left', on='symbol')\n",
    "        else:\n",
    "            break  # Break the loop if 'i' is out of bounds\n",
    "    result = pd.concat([result, temp_result], axis=0)"
   ]
  },
  {
   "cell_type": "code",
   "execution_count": 22,
   "metadata": {},
   "outputs": [
    {
     "data": {
      "text/html": [
       "<div>\n",
       "<style scoped>\n",
       "    .dataframe tbody tr th:only-of-type {\n",
       "        vertical-align: middle;\n",
       "    }\n",
       "\n",
       "    .dataframe tbody tr th {\n",
       "        vertical-align: top;\n",
       "    }\n",
       "\n",
       "    .dataframe thead th {\n",
       "        text-align: right;\n",
       "    }\n",
       "</style>\n",
       "<table border=\"1\" class=\"dataframe\">\n",
       "  <thead>\n",
       "    <tr style=\"text-align: right;\">\n",
       "      <th></th>\n",
       "      <th>symbol</th>\n",
       "      <th>growth_future_1d</th>\n",
       "      <th>growth_future_2d</th>\n",
       "      <th>growth_future_3d</th>\n",
       "      <th>growth_future_4d</th>\n",
       "      <th>growth_future_5d</th>\n",
       "      <th>growth_future_6d</th>\n",
       "      <th>growth_future_7d</th>\n",
       "      <th>growth_future_8d</th>\n",
       "      <th>growth_future_9d</th>\n",
       "      <th>...</th>\n",
       "      <th>growth_future_21d</th>\n",
       "      <th>growth_future_22d</th>\n",
       "      <th>growth_future_23d</th>\n",
       "      <th>growth_future_24d</th>\n",
       "      <th>growth_future_25d</th>\n",
       "      <th>growth_future_26d</th>\n",
       "      <th>growth_future_27d</th>\n",
       "      <th>growth_future_28d</th>\n",
       "      <th>growth_future_29d</th>\n",
       "      <th>growth_future_30d</th>\n",
       "    </tr>\n",
       "  </thead>\n",
       "  <tbody>\n",
       "    <tr>\n",
       "      <th>0</th>\n",
       "      <td>df_IROH</td>\n",
       "      <td>1.000999</td>\n",
       "      <td>1.000500</td>\n",
       "      <td>1.000999</td>\n",
       "      <td>1.000000</td>\n",
       "      <td>1.000999</td>\n",
       "      <td>1.000000</td>\n",
       "      <td>0.997003</td>\n",
       "      <td>0.997003</td>\n",
       "      <td>0.997003</td>\n",
       "      <td>...</td>\n",
       "      <td>0.997702</td>\n",
       "      <td>0.997702</td>\n",
       "      <td>0.997502</td>\n",
       "      <td>0.997902</td>\n",
       "      <td>0.996004</td>\n",
       "      <td>0.997003</td>\n",
       "      <td>0.997502</td>\n",
       "      <td>0.997003</td>\n",
       "      <td>0.998002</td>\n",
       "      <td>0.998002</td>\n",
       "    </tr>\n",
       "    <tr>\n",
       "      <th>0</th>\n",
       "      <td>df_LGCB</td>\n",
       "      <td>0.811224</td>\n",
       "      <td>0.877551</td>\n",
       "      <td>0.795918</td>\n",
       "      <td>0.844898</td>\n",
       "      <td>0.833673</td>\n",
       "      <td>0.859184</td>\n",
       "      <td>0.928571</td>\n",
       "      <td>0.872449</td>\n",
       "      <td>0.806122</td>\n",
       "      <td>...</td>\n",
       "      <td>0.785714</td>\n",
       "      <td>0.790306</td>\n",
       "      <td>0.910204</td>\n",
       "      <td>0.862245</td>\n",
       "      <td>0.831633</td>\n",
       "      <td>0.816327</td>\n",
       "      <td>0.785714</td>\n",
       "      <td>0.795918</td>\n",
       "      <td>0.892857</td>\n",
       "      <td>0.994898</td>\n",
       "    </tr>\n",
       "    <tr>\n",
       "      <th>0</th>\n",
       "      <td>df_ZKH</td>\n",
       "      <td>1.000000</td>\n",
       "      <td>1.000000</td>\n",
       "      <td>1.011613</td>\n",
       "      <td>1.008387</td>\n",
       "      <td>1.003871</td>\n",
       "      <td>1.029032</td>\n",
       "      <td>1.025806</td>\n",
       "      <td>1.040000</td>\n",
       "      <td>1.052258</td>\n",
       "      <td>...</td>\n",
       "      <td>1.079355</td>\n",
       "      <td>1.038710</td>\n",
       "      <td>1.045161</td>\n",
       "      <td>1.084516</td>\n",
       "      <td>1.194839</td>\n",
       "      <td>1.228387</td>\n",
       "      <td>1.106452</td>\n",
       "      <td>1.145161</td>\n",
       "      <td>1.169032</td>\n",
       "      <td>1.100645</td>\n",
       "    </tr>\n",
       "    <tr>\n",
       "      <th>0</th>\n",
       "      <td>df_BAYA</td>\n",
       "      <td>1.000999</td>\n",
       "      <td>1.003996</td>\n",
       "      <td>1.004995</td>\n",
       "      <td>1.004995</td>\n",
       "      <td>1.004995</td>\n",
       "      <td>1.006893</td>\n",
       "      <td>1.006194</td>\n",
       "      <td>1.005994</td>\n",
       "      <td>1.005994</td>\n",
       "      <td>...</td>\n",
       "      <td>1.011988</td>\n",
       "      <td>1.011988</td>\n",
       "      <td>1.011988</td>\n",
       "      <td>1.011988</td>\n",
       "      <td>1.011988</td>\n",
       "      <td>1.011988</td>\n",
       "      <td>1.011988</td>\n",
       "      <td>1.011988</td>\n",
       "      <td>1.011988</td>\n",
       "      <td>1.011988</td>\n",
       "    </tr>\n",
       "    <tr>\n",
       "      <th>0</th>\n",
       "      <td>df_INHD</td>\n",
       "      <td>0.153569</td>\n",
       "      <td>0.133381</td>\n",
       "      <td>0.122206</td>\n",
       "      <td>0.113194</td>\n",
       "      <td>0.108147</td>\n",
       "      <td>0.107426</td>\n",
       "      <td>0.099495</td>\n",
       "      <td>0.090123</td>\n",
       "      <td>0.108508</td>\n",
       "      <td>...</td>\n",
       "      <td>0.077866</td>\n",
       "      <td>0.077145</td>\n",
       "      <td>0.076424</td>\n",
       "      <td>0.076424</td>\n",
       "      <td>0.069430</td>\n",
       "      <td>0.069935</td>\n",
       "      <td>0.081182</td>\n",
       "      <td>0.077866</td>\n",
       "      <td>0.083922</td>\n",
       "      <td>0.081471</td>\n",
       "    </tr>\n",
       "    <tr>\n",
       "      <th>...</th>\n",
       "      <td>...</td>\n",
       "      <td>...</td>\n",
       "      <td>...</td>\n",
       "      <td>...</td>\n",
       "      <td>...</td>\n",
       "      <td>...</td>\n",
       "      <td>...</td>\n",
       "      <td>...</td>\n",
       "      <td>...</td>\n",
       "      <td>...</td>\n",
       "      <td>...</td>\n",
       "      <td>...</td>\n",
       "      <td>...</td>\n",
       "      <td>...</td>\n",
       "      <td>...</td>\n",
       "      <td>...</td>\n",
       "      <td>...</td>\n",
       "      <td>...</td>\n",
       "      <td>...</td>\n",
       "      <td>...</td>\n",
       "      <td>...</td>\n",
       "    </tr>\n",
       "    <tr>\n",
       "      <th>0</th>\n",
       "      <td>df_PSBD</td>\n",
       "      <td>1.011118</td>\n",
       "      <td>1.004324</td>\n",
       "      <td>1.016677</td>\n",
       "      <td>1.016677</td>\n",
       "      <td>1.008030</td>\n",
       "      <td>1.003088</td>\n",
       "      <td>1.009883</td>\n",
       "      <td>1.002471</td>\n",
       "      <td>1.009883</td>\n",
       "      <td>...</td>\n",
       "      <td>1.016059</td>\n",
       "      <td>1.024089</td>\n",
       "      <td>1.035207</td>\n",
       "      <td>1.006177</td>\n",
       "      <td>1.009265</td>\n",
       "      <td>0.997529</td>\n",
       "      <td>0.990117</td>\n",
       "      <td>1.011118</td>\n",
       "      <td>1.004324</td>\n",
       "      <td>1.004324</td>\n",
       "    </tr>\n",
       "    <tr>\n",
       "      <th>0</th>\n",
       "      <td>df_CCTG</td>\n",
       "      <td>1.168831</td>\n",
       "      <td>1.298701</td>\n",
       "      <td>1.267533</td>\n",
       "      <td>1.929870</td>\n",
       "      <td>2.171429</td>\n",
       "      <td>2.529870</td>\n",
       "      <td>2.168831</td>\n",
       "      <td>2.359740</td>\n",
       "      <td>2.751948</td>\n",
       "      <td>...</td>\n",
       "      <td>0.467532</td>\n",
       "      <td>0.381818</td>\n",
       "      <td>0.388312</td>\n",
       "      <td>0.370130</td>\n",
       "      <td>0.358442</td>\n",
       "      <td>0.348052</td>\n",
       "      <td>0.353247</td>\n",
       "      <td>0.393506</td>\n",
       "      <td>0.376623</td>\n",
       "      <td>0.370130</td>\n",
       "    </tr>\n",
       "    <tr>\n",
       "      <th>0</th>\n",
       "      <td>df_SYNX</td>\n",
       "      <td>1.011080</td>\n",
       "      <td>1.030471</td>\n",
       "      <td>0.980609</td>\n",
       "      <td>0.850416</td>\n",
       "      <td>0.806094</td>\n",
       "      <td>0.819945</td>\n",
       "      <td>0.798061</td>\n",
       "      <td>0.828255</td>\n",
       "      <td>0.831025</td>\n",
       "      <td>...</td>\n",
       "      <td>0.994460</td>\n",
       "      <td>0.988920</td>\n",
       "      <td>0.941828</td>\n",
       "      <td>0.933518</td>\n",
       "      <td>0.941828</td>\n",
       "      <td>0.977839</td>\n",
       "      <td>0.966759</td>\n",
       "      <td>0.983934</td>\n",
       "      <td>0.969529</td>\n",
       "      <td>0.989474</td>\n",
       "    </tr>\n",
       "    <tr>\n",
       "      <th>0</th>\n",
       "      <td>df_SDHC</td>\n",
       "      <td>0.991304</td>\n",
       "      <td>1.010766</td>\n",
       "      <td>1.028986</td>\n",
       "      <td>1.014079</td>\n",
       "      <td>1.002070</td>\n",
       "      <td>1.022360</td>\n",
       "      <td>1.077019</td>\n",
       "      <td>1.033126</td>\n",
       "      <td>1.072464</td>\n",
       "      <td>...</td>\n",
       "      <td>1.117598</td>\n",
       "      <td>1.148240</td>\n",
       "      <td>1.161491</td>\n",
       "      <td>1.157350</td>\n",
       "      <td>1.175569</td>\n",
       "      <td>1.167702</td>\n",
       "      <td>1.186749</td>\n",
       "      <td>1.193789</td>\n",
       "      <td>1.163561</td>\n",
       "      <td>1.171843</td>\n",
       "    </tr>\n",
       "    <tr>\n",
       "      <th>0</th>\n",
       "      <td>df_ROMA</td>\n",
       "      <td>1.362069</td>\n",
       "      <td>1.393103</td>\n",
       "      <td>1.389655</td>\n",
       "      <td>1.348276</td>\n",
       "      <td>0.393103</td>\n",
       "      <td>0.444828</td>\n",
       "      <td>0.382759</td>\n",
       "      <td>0.313793</td>\n",
       "      <td>0.320690</td>\n",
       "      <td>...</td>\n",
       "      <td>0.393103</td>\n",
       "      <td>0.351724</td>\n",
       "      <td>0.437931</td>\n",
       "      <td>0.396552</td>\n",
       "      <td>0.372414</td>\n",
       "      <td>0.493103</td>\n",
       "      <td>0.437931</td>\n",
       "      <td>0.482759</td>\n",
       "      <td>0.527586</td>\n",
       "      <td>0.631034</td>\n",
       "    </tr>\n",
       "  </tbody>\n",
       "</table>\n",
       "<p>215 rows × 31 columns</p>\n",
       "</div>"
      ],
      "text/plain": [
       "     symbol  growth_future_1d  growth_future_2d  growth_future_3d  \\\n",
       "0   df_IROH          1.000999          1.000500          1.000999   \n",
       "0   df_LGCB          0.811224          0.877551          0.795918   \n",
       "0    df_ZKH          1.000000          1.000000          1.011613   \n",
       "0   df_BAYA          1.000999          1.003996          1.004995   \n",
       "0   df_INHD          0.153569          0.133381          0.122206   \n",
       "..      ...               ...               ...               ...   \n",
       "0   df_PSBD          1.011118          1.004324          1.016677   \n",
       "0   df_CCTG          1.168831          1.298701          1.267533   \n",
       "0   df_SYNX          1.011080          1.030471          0.980609   \n",
       "0   df_SDHC          0.991304          1.010766          1.028986   \n",
       "0   df_ROMA          1.362069          1.393103          1.389655   \n",
       "\n",
       "    growth_future_4d  growth_future_5d  growth_future_6d  growth_future_7d  \\\n",
       "0           1.000000          1.000999          1.000000          0.997003   \n",
       "0           0.844898          0.833673          0.859184          0.928571   \n",
       "0           1.008387          1.003871          1.029032          1.025806   \n",
       "0           1.004995          1.004995          1.006893          1.006194   \n",
       "0           0.113194          0.108147          0.107426          0.099495   \n",
       "..               ...               ...               ...               ...   \n",
       "0           1.016677          1.008030          1.003088          1.009883   \n",
       "0           1.929870          2.171429          2.529870          2.168831   \n",
       "0           0.850416          0.806094          0.819945          0.798061   \n",
       "0           1.014079          1.002070          1.022360          1.077019   \n",
       "0           1.348276          0.393103          0.444828          0.382759   \n",
       "\n",
       "    growth_future_8d  growth_future_9d  ...  growth_future_21d  \\\n",
       "0           0.997003          0.997003  ...           0.997702   \n",
       "0           0.872449          0.806122  ...           0.785714   \n",
       "0           1.040000          1.052258  ...           1.079355   \n",
       "0           1.005994          1.005994  ...           1.011988   \n",
       "0           0.090123          0.108508  ...           0.077866   \n",
       "..               ...               ...  ...                ...   \n",
       "0           1.002471          1.009883  ...           1.016059   \n",
       "0           2.359740          2.751948  ...           0.467532   \n",
       "0           0.828255          0.831025  ...           0.994460   \n",
       "0           1.033126          1.072464  ...           1.117598   \n",
       "0           0.313793          0.320690  ...           0.393103   \n",
       "\n",
       "    growth_future_22d  growth_future_23d  growth_future_24d  \\\n",
       "0            0.997702           0.997502           0.997902   \n",
       "0            0.790306           0.910204           0.862245   \n",
       "0            1.038710           1.045161           1.084516   \n",
       "0            1.011988           1.011988           1.011988   \n",
       "0            0.077145           0.076424           0.076424   \n",
       "..                ...                ...                ...   \n",
       "0            1.024089           1.035207           1.006177   \n",
       "0            0.381818           0.388312           0.370130   \n",
       "0            0.988920           0.941828           0.933518   \n",
       "0            1.148240           1.161491           1.157350   \n",
       "0            0.351724           0.437931           0.396552   \n",
       "\n",
       "    growth_future_25d  growth_future_26d  growth_future_27d  \\\n",
       "0            0.996004           0.997003           0.997502   \n",
       "0            0.831633           0.816327           0.785714   \n",
       "0            1.194839           1.228387           1.106452   \n",
       "0            1.011988           1.011988           1.011988   \n",
       "0            0.069430           0.069935           0.081182   \n",
       "..                ...                ...                ...   \n",
       "0            1.009265           0.997529           0.990117   \n",
       "0            0.358442           0.348052           0.353247   \n",
       "0            0.941828           0.977839           0.966759   \n",
       "0            1.175569           1.167702           1.186749   \n",
       "0            0.372414           0.493103           0.437931   \n",
       "\n",
       "    growth_future_28d  growth_future_29d  growth_future_30d  \n",
       "0            0.997003           0.998002           0.998002  \n",
       "0            0.795918           0.892857           0.994898  \n",
       "0            1.145161           1.169032           1.100645  \n",
       "0            1.011988           1.011988           1.011988  \n",
       "0            0.077866           0.083922           0.081471  \n",
       "..                ...                ...                ...  \n",
       "0            1.011118           1.004324           1.004324  \n",
       "0            0.393506           0.376623           0.370130  \n",
       "0            0.983934           0.969529           0.989474  \n",
       "0            1.193789           1.163561           1.171843  \n",
       "0            0.482759           0.527586           0.631034  \n",
       "\n",
       "[215 rows x 31 columns]"
      ]
     },
     "execution_count": 22,
     "metadata": {},
     "output_type": "execute_result"
    }
   ],
   "source": [
    "result"
   ]
  },
  {
   "cell_type": "code",
   "execution_count": 23,
   "metadata": {},
   "outputs": [
    {
     "name": "stdout",
     "output_type": "stream",
     "text": [
      "optimal_day: growth_future_28d\n",
      "highest_quantile: 1.039141956220915\n"
     ]
    }
   ],
   "source": [
    "# List of growth columns names\n",
    "growth_columns = ['growth_future_' + str(i) + 'd' for i in range(1, 31)]\n",
    "\n",
    "# Calculate the 75th quantile for each growth column\n",
    "quantiles_75th = result[growth_columns].quantile(0.75)\n",
    "\n",
    "# Identify the day with the highest 75th quantile\n",
    "print('optimal_day:', quantiles_75th.idxmax())\n",
    "print('highest_quantile:', quantiles_75th.max())\n"
   ]
  },
  {
   "cell_type": "markdown",
   "metadata": {},
   "source": [
    "# Q3"
   ]
  },
  {
   "cell_type": "code",
   "execution_count": 4,
   "metadata": {},
   "outputs": [
    {
     "name": "stdout",
     "output_type": "stream",
     "text": [
      "# of LARGEST_STOCKS: 33\n",
      "# of LARGE_STOCKS: 34\n",
      "# of all_tickers: 67\n"
     ]
    }
   ],
   "source": [
    "US_STOCKS = ['MSFT', 'AAPL', 'GOOG', 'NVDA', 'AMZN', 'META', 'BRK-B', 'LLY', 'AVGO','V', 'JPM']\n",
    "\n",
    "EU_STOCKS = ['NVO','MC.PA', 'ASML', 'RMS.PA', 'OR.PA', 'SAP', 'ACN', 'TTE', 'SIE.DE','IDEXY','CDI.PA']\n",
    "\n",
    "INDIA_STOCKS = ['RELIANCE.NS','TCS.NS','HDB','BHARTIARTL.NS','IBN','SBIN.NS','LICI.NS','INFY','ITC.NS','HINDUNILVR.NS','LT.NS']\n",
    "\n",
    "LARGEST_STOCKS = US_STOCKS + EU_STOCKS + INDIA_STOCKS\n",
    "\n",
    "NEW_US = ['TSLA','WMT','XOM','UNH','MA','PG','JNJ','MRK','HD','COST','ORCL']\n",
    "\n",
    "NEW_EU = ['PRX.AS','CDI.PA','AIR.PA','SU.PA','ETN','SNY','BUD','DTE.DE','ALV.DE','MDT','AI.PA','EL.PA']\n",
    "\n",
    "NEW_INDIA = ['BAJFINANCE.NS','MARUTI.NS','HCLTECH.NS','TATAMOTORS.NS','SUNPHARMA.NS','ONGC.NS','ADANIENT.NS','ADANIENT.NS','NTPC.NS','KOTAKBANK.NS','TITAN.NS']\n",
    "\n",
    "LARGE_STOCKS = NEW_EU + NEW_US + NEW_INDIA\n",
    "\n",
    "all_tickers = LARGEST_STOCKS + LARGE_STOCKS\n",
    "\n",
    "print(f'# of LARGEST_STOCKS: {len(LARGEST_STOCKS)}')\n",
    "print(f'# of LARGE_STOCKS: {len(LARGE_STOCKS)}')\n",
    "print(f'# of all_tickers: {len(all_tickers)}')"
   ]
  },
  {
   "cell_type": "code",
   "execution_count": 133,
   "metadata": {},
   "outputs": [
    {
     "name": "stdout",
     "output_type": "stream",
     "text": [
      "0 MSFT\n"
     ]
    },
    {
     "name": "stderr",
     "output_type": "stream",
     "text": [
      "[*********************100%%**********************]  1 of 1 completed\n"
     ]
    },
    {
     "name": "stdout",
     "output_type": "stream",
     "text": [
      "1 AAPL\n"
     ]
    },
    {
     "name": "stderr",
     "output_type": "stream",
     "text": [
      "[*********************100%%**********************]  1 of 1 completed\n"
     ]
    },
    {
     "name": "stdout",
     "output_type": "stream",
     "text": [
      "2 GOOG\n"
     ]
    },
    {
     "name": "stderr",
     "output_type": "stream",
     "text": [
      "[*********************100%%**********************]  1 of 1 completed\n"
     ]
    },
    {
     "name": "stdout",
     "output_type": "stream",
     "text": [
      "3 NVDA\n"
     ]
    },
    {
     "name": "stderr",
     "output_type": "stream",
     "text": [
      "[*********************100%%**********************]  1 of 1 completed\n"
     ]
    },
    {
     "name": "stdout",
     "output_type": "stream",
     "text": [
      "4 AMZN\n"
     ]
    },
    {
     "name": "stderr",
     "output_type": "stream",
     "text": [
      "[*********************100%%**********************]  1 of 1 completed\n"
     ]
    },
    {
     "name": "stdout",
     "output_type": "stream",
     "text": [
      "5 META\n"
     ]
    },
    {
     "name": "stderr",
     "output_type": "stream",
     "text": [
      "[*********************100%%**********************]  1 of 1 completed\n"
     ]
    },
    {
     "name": "stdout",
     "output_type": "stream",
     "text": [
      "6 BRK-B\n"
     ]
    },
    {
     "name": "stderr",
     "output_type": "stream",
     "text": [
      "[*********************100%%**********************]  1 of 1 completed\n"
     ]
    },
    {
     "name": "stdout",
     "output_type": "stream",
     "text": [
      "7 LLY\n"
     ]
    },
    {
     "name": "stderr",
     "output_type": "stream",
     "text": [
      "[*********************100%%**********************]  1 of 1 completed\n"
     ]
    },
    {
     "name": "stdout",
     "output_type": "stream",
     "text": [
      "8 AVGO\n"
     ]
    },
    {
     "name": "stderr",
     "output_type": "stream",
     "text": [
      "[*********************100%%**********************]  1 of 1 completed\n"
     ]
    },
    {
     "name": "stdout",
     "output_type": "stream",
     "text": [
      "9 V\n"
     ]
    },
    {
     "name": "stderr",
     "output_type": "stream",
     "text": [
      "[*********************100%%**********************]  1 of 1 completed\n"
     ]
    },
    {
     "name": "stdout",
     "output_type": "stream",
     "text": [
      "10 JPM\n"
     ]
    },
    {
     "name": "stderr",
     "output_type": "stream",
     "text": [
      "[*********************100%%**********************]  1 of 1 completed\n"
     ]
    },
    {
     "name": "stdout",
     "output_type": "stream",
     "text": [
      "11 NVO\n"
     ]
    },
    {
     "name": "stderr",
     "output_type": "stream",
     "text": [
      "[*********************100%%**********************]  1 of 1 completed\n"
     ]
    },
    {
     "name": "stdout",
     "output_type": "stream",
     "text": [
      "12 MC.PA\n"
     ]
    },
    {
     "name": "stderr",
     "output_type": "stream",
     "text": [
      "[*********************100%%**********************]  1 of 1 completed\n"
     ]
    },
    {
     "name": "stdout",
     "output_type": "stream",
     "text": [
      "13 ASML\n"
     ]
    },
    {
     "name": "stderr",
     "output_type": "stream",
     "text": [
      "[*********************100%%**********************]  1 of 1 completed\n"
     ]
    },
    {
     "name": "stdout",
     "output_type": "stream",
     "text": [
      "14 RMS.PA\n"
     ]
    },
    {
     "name": "stderr",
     "output_type": "stream",
     "text": [
      "[*********************100%%**********************]  1 of 1 completed\n"
     ]
    },
    {
     "name": "stdout",
     "output_type": "stream",
     "text": [
      "15 OR.PA\n"
     ]
    },
    {
     "name": "stderr",
     "output_type": "stream",
     "text": [
      "[*********************100%%**********************]  1 of 1 completed\n"
     ]
    },
    {
     "name": "stdout",
     "output_type": "stream",
     "text": [
      "16 SAP\n"
     ]
    },
    {
     "name": "stderr",
     "output_type": "stream",
     "text": [
      "[*********************100%%**********************]  1 of 1 completed\n"
     ]
    },
    {
     "name": "stdout",
     "output_type": "stream",
     "text": [
      "17 ACN\n"
     ]
    },
    {
     "name": "stderr",
     "output_type": "stream",
     "text": [
      "[*********************100%%**********************]  1 of 1 completed\n"
     ]
    },
    {
     "name": "stdout",
     "output_type": "stream",
     "text": [
      "18 TTE\n"
     ]
    },
    {
     "name": "stderr",
     "output_type": "stream",
     "text": [
      "[*********************100%%**********************]  1 of 1 completed\n"
     ]
    },
    {
     "name": "stdout",
     "output_type": "stream",
     "text": [
      "19 SIE.DE\n"
     ]
    },
    {
     "name": "stderr",
     "output_type": "stream",
     "text": [
      "[*********************100%%**********************]  1 of 1 completed\n"
     ]
    },
    {
     "name": "stdout",
     "output_type": "stream",
     "text": [
      "20 IDEXY\n"
     ]
    },
    {
     "name": "stderr",
     "output_type": "stream",
     "text": [
      "[*********************100%%**********************]  1 of 1 completed\n"
     ]
    },
    {
     "name": "stdout",
     "output_type": "stream",
     "text": [
      "21 CDI.PA\n"
     ]
    },
    {
     "name": "stderr",
     "output_type": "stream",
     "text": [
      "[*********************100%%**********************]  1 of 1 completed\n"
     ]
    },
    {
     "name": "stdout",
     "output_type": "stream",
     "text": [
      "22 RELIANCE.NS\n"
     ]
    },
    {
     "name": "stderr",
     "output_type": "stream",
     "text": [
      "[*********************100%%**********************]  1 of 1 completed\n"
     ]
    },
    {
     "name": "stdout",
     "output_type": "stream",
     "text": [
      "23 TCS.NS\n"
     ]
    },
    {
     "name": "stderr",
     "output_type": "stream",
     "text": [
      "[*********************100%%**********************]  1 of 1 completed\n"
     ]
    },
    {
     "name": "stdout",
     "output_type": "stream",
     "text": [
      "24 HDB\n"
     ]
    },
    {
     "name": "stderr",
     "output_type": "stream",
     "text": [
      "[*********************100%%**********************]  1 of 1 completed\n"
     ]
    },
    {
     "name": "stdout",
     "output_type": "stream",
     "text": [
      "25 BHARTIARTL.NS\n"
     ]
    },
    {
     "name": "stderr",
     "output_type": "stream",
     "text": [
      "[*********************100%%**********************]  1 of 1 completed\n"
     ]
    },
    {
     "name": "stdout",
     "output_type": "stream",
     "text": [
      "26 IBN\n"
     ]
    },
    {
     "name": "stderr",
     "output_type": "stream",
     "text": [
      "[*********************100%%**********************]  1 of 1 completed\n"
     ]
    },
    {
     "name": "stdout",
     "output_type": "stream",
     "text": [
      "27 SBIN.NS\n"
     ]
    },
    {
     "name": "stderr",
     "output_type": "stream",
     "text": [
      "[*********************100%%**********************]  1 of 1 completed\n",
      "[*********************100%%**********************]  1 of 1 completed"
     ]
    },
    {
     "name": "stdout",
     "output_type": "stream",
     "text": [
      "28 LICI.NS\n"
     ]
    },
    {
     "name": "stderr",
     "output_type": "stream",
     "text": [
      "\n"
     ]
    },
    {
     "name": "stdout",
     "output_type": "stream",
     "text": [
      "29 INFY\n"
     ]
    },
    {
     "name": "stderr",
     "output_type": "stream",
     "text": [
      "[*********************100%%**********************]  1 of 1 completed\n"
     ]
    },
    {
     "name": "stdout",
     "output_type": "stream",
     "text": [
      "30 ITC.NS\n"
     ]
    },
    {
     "name": "stderr",
     "output_type": "stream",
     "text": [
      "[*********************100%%**********************]  1 of 1 completed\n"
     ]
    },
    {
     "name": "stdout",
     "output_type": "stream",
     "text": [
      "31 HINDUNILVR.NS\n"
     ]
    },
    {
     "name": "stderr",
     "output_type": "stream",
     "text": [
      "[*********************100%%**********************]  1 of 1 completed\n"
     ]
    },
    {
     "name": "stdout",
     "output_type": "stream",
     "text": [
      "32 LT.NS\n"
     ]
    },
    {
     "name": "stderr",
     "output_type": "stream",
     "text": [
      "[*********************100%%**********************]  1 of 1 completed\n"
     ]
    },
    {
     "name": "stdout",
     "output_type": "stream",
     "text": [
      "33 PRX.AS\n"
     ]
    },
    {
     "name": "stderr",
     "output_type": "stream",
     "text": [
      "[*********************100%%**********************]  1 of 1 completed\n"
     ]
    },
    {
     "name": "stdout",
     "output_type": "stream",
     "text": [
      "34 CDI.PA\n"
     ]
    },
    {
     "name": "stderr",
     "output_type": "stream",
     "text": [
      "[*********************100%%**********************]  1 of 1 completed\n"
     ]
    },
    {
     "name": "stdout",
     "output_type": "stream",
     "text": [
      "35 AIR.PA\n"
     ]
    },
    {
     "name": "stderr",
     "output_type": "stream",
     "text": [
      "[*********************100%%**********************]  1 of 1 completed\n"
     ]
    },
    {
     "name": "stdout",
     "output_type": "stream",
     "text": [
      "36 SU.PA\n"
     ]
    },
    {
     "name": "stderr",
     "output_type": "stream",
     "text": [
      "[*********************100%%**********************]  1 of 1 completed\n"
     ]
    },
    {
     "name": "stdout",
     "output_type": "stream",
     "text": [
      "37 ETN\n"
     ]
    },
    {
     "name": "stderr",
     "output_type": "stream",
     "text": [
      "[*********************100%%**********************]  1 of 1 completed\n"
     ]
    },
    {
     "name": "stdout",
     "output_type": "stream",
     "text": [
      "38 SNY\n"
     ]
    },
    {
     "name": "stderr",
     "output_type": "stream",
     "text": [
      "[*********************100%%**********************]  1 of 1 completed\n"
     ]
    },
    {
     "name": "stdout",
     "output_type": "stream",
     "text": [
      "39 BUD\n"
     ]
    },
    {
     "name": "stderr",
     "output_type": "stream",
     "text": [
      "[*********************100%%**********************]  1 of 1 completed\n"
     ]
    },
    {
     "name": "stdout",
     "output_type": "stream",
     "text": [
      "40 DTE.DE\n"
     ]
    },
    {
     "name": "stderr",
     "output_type": "stream",
     "text": [
      "[*********************100%%**********************]  1 of 1 completed\n"
     ]
    },
    {
     "name": "stdout",
     "output_type": "stream",
     "text": [
      "41 ALV.DE\n"
     ]
    },
    {
     "name": "stderr",
     "output_type": "stream",
     "text": [
      "[*********************100%%**********************]  1 of 1 completed\n"
     ]
    },
    {
     "name": "stdout",
     "output_type": "stream",
     "text": [
      "42 MDT\n"
     ]
    },
    {
     "name": "stderr",
     "output_type": "stream",
     "text": [
      "[*********************100%%**********************]  1 of 1 completed\n"
     ]
    },
    {
     "name": "stdout",
     "output_type": "stream",
     "text": [
      "43 AI.PA\n"
     ]
    },
    {
     "name": "stderr",
     "output_type": "stream",
     "text": [
      "[*********************100%%**********************]  1 of 1 completed\n"
     ]
    },
    {
     "name": "stdout",
     "output_type": "stream",
     "text": [
      "44 EL.PA\n"
     ]
    },
    {
     "name": "stderr",
     "output_type": "stream",
     "text": [
      "[*********************100%%**********************]  1 of 1 completed\n"
     ]
    },
    {
     "name": "stdout",
     "output_type": "stream",
     "text": [
      "45 TSLA\n"
     ]
    },
    {
     "name": "stderr",
     "output_type": "stream",
     "text": [
      "[*********************100%%**********************]  1 of 1 completed\n"
     ]
    },
    {
     "name": "stdout",
     "output_type": "stream",
     "text": [
      "46 WMT\n"
     ]
    },
    {
     "name": "stderr",
     "output_type": "stream",
     "text": [
      "[*********************100%%**********************]  1 of 1 completed\n"
     ]
    },
    {
     "name": "stdout",
     "output_type": "stream",
     "text": [
      "47 XOM\n"
     ]
    },
    {
     "name": "stderr",
     "output_type": "stream",
     "text": [
      "[*********************100%%**********************]  1 of 1 completed\n"
     ]
    },
    {
     "name": "stdout",
     "output_type": "stream",
     "text": [
      "48 UNH\n"
     ]
    },
    {
     "name": "stderr",
     "output_type": "stream",
     "text": [
      "[*********************100%%**********************]  1 of 1 completed\n"
     ]
    },
    {
     "name": "stdout",
     "output_type": "stream",
     "text": [
      "49 MA\n"
     ]
    },
    {
     "name": "stderr",
     "output_type": "stream",
     "text": [
      "[*********************100%%**********************]  1 of 1 completed\n"
     ]
    },
    {
     "name": "stdout",
     "output_type": "stream",
     "text": [
      "50 PG\n"
     ]
    },
    {
     "name": "stderr",
     "output_type": "stream",
     "text": [
      "[*********************100%%**********************]  1 of 1 completed\n"
     ]
    },
    {
     "name": "stdout",
     "output_type": "stream",
     "text": [
      "51 JNJ\n"
     ]
    },
    {
     "name": "stderr",
     "output_type": "stream",
     "text": [
      "[*********************100%%**********************]  1 of 1 completed\n"
     ]
    },
    {
     "name": "stdout",
     "output_type": "stream",
     "text": [
      "52 MRK\n"
     ]
    },
    {
     "name": "stderr",
     "output_type": "stream",
     "text": [
      "[*********************100%%**********************]  1 of 1 completed\n"
     ]
    },
    {
     "name": "stdout",
     "output_type": "stream",
     "text": [
      "53 HD\n"
     ]
    },
    {
     "name": "stderr",
     "output_type": "stream",
     "text": [
      "[*********************100%%**********************]  1 of 1 completed\n"
     ]
    },
    {
     "name": "stdout",
     "output_type": "stream",
     "text": [
      "54 COST\n"
     ]
    },
    {
     "name": "stderr",
     "output_type": "stream",
     "text": [
      "[*********************100%%**********************]  1 of 1 completed\n"
     ]
    },
    {
     "name": "stdout",
     "output_type": "stream",
     "text": [
      "55 ORCL\n"
     ]
    },
    {
     "name": "stderr",
     "output_type": "stream",
     "text": [
      "[*********************100%%**********************]  1 of 1 completed\n"
     ]
    },
    {
     "name": "stdout",
     "output_type": "stream",
     "text": [
      "56 BAJFINANCE.NS\n"
     ]
    },
    {
     "name": "stderr",
     "output_type": "stream",
     "text": [
      "[*********************100%%**********************]  1 of 1 completed\n"
     ]
    },
    {
     "name": "stdout",
     "output_type": "stream",
     "text": [
      "57 MARUTI.NS\n"
     ]
    },
    {
     "name": "stderr",
     "output_type": "stream",
     "text": [
      "[*********************100%%**********************]  1 of 1 completed\n"
     ]
    },
    {
     "name": "stdout",
     "output_type": "stream",
     "text": [
      "58 HCLTECH.NS\n"
     ]
    },
    {
     "name": "stderr",
     "output_type": "stream",
     "text": [
      "[*********************100%%**********************]  1 of 1 completed\n"
     ]
    },
    {
     "name": "stdout",
     "output_type": "stream",
     "text": [
      "59 TATAMOTORS.NS\n"
     ]
    },
    {
     "name": "stderr",
     "output_type": "stream",
     "text": [
      "[*********************100%%**********************]  1 of 1 completed\n"
     ]
    },
    {
     "name": "stdout",
     "output_type": "stream",
     "text": [
      "60 SUNPHARMA.NS\n"
     ]
    },
    {
     "name": "stderr",
     "output_type": "stream",
     "text": [
      "[*********************100%%**********************]  1 of 1 completed\n"
     ]
    },
    {
     "name": "stdout",
     "output_type": "stream",
     "text": [
      "61 ONGC.NS\n"
     ]
    },
    {
     "name": "stderr",
     "output_type": "stream",
     "text": [
      "[*********************100%%**********************]  1 of 1 completed\n"
     ]
    },
    {
     "name": "stdout",
     "output_type": "stream",
     "text": [
      "62 ADANIENT.NS\n"
     ]
    },
    {
     "name": "stderr",
     "output_type": "stream",
     "text": [
      "[*********************100%%**********************]  1 of 1 completed\n"
     ]
    },
    {
     "name": "stdout",
     "output_type": "stream",
     "text": [
      "63 ADANIENT.NS\n"
     ]
    },
    {
     "name": "stderr",
     "output_type": "stream",
     "text": [
      "[*********************100%%**********************]  1 of 1 completed\n"
     ]
    },
    {
     "name": "stdout",
     "output_type": "stream",
     "text": [
      "64 NTPC.NS\n"
     ]
    },
    {
     "name": "stderr",
     "output_type": "stream",
     "text": [
      "[*********************100%%**********************]  1 of 1 completed\n"
     ]
    },
    {
     "name": "stdout",
     "output_type": "stream",
     "text": [
      "65 KOTAKBANK.NS\n"
     ]
    },
    {
     "name": "stderr",
     "output_type": "stream",
     "text": [
      "[*********************100%%**********************]  1 of 1 completed\n"
     ]
    },
    {
     "name": "stdout",
     "output_type": "stream",
     "text": [
      "66 TITAN.NS\n"
     ]
    },
    {
     "name": "stderr",
     "output_type": "stream",
     "text": [
      "[*********************100%%**********************]  1 of 1 completed\n"
     ]
    }
   ],
   "source": [
    "df_stocks = pd.DataFrame()\n",
    "for i, ticker in enumerate(all_tickers):\n",
    "    print(i, ticker)\n",
    "\n",
    "    # stock price\n",
    "    history_prices = yf.download(tickers=ticker, period='max', interval='1d')\n",
    "\n",
    "    \n",
    "\n",
    "    # feature generation\n",
    "    history_prices['ticker'] = ticker\n",
    "    history_prices['year'] = history_prices.index.year\n",
    "    history_prices['month'] = history_prices.index.month\n",
    "    history_prices['weekday'] = history_prices.index.weekday\n",
    "    history_prices['date'] = pd.to_datetime(history_prices.index.date)\n",
    "\n",
    "    history_prices = history_prices[(history_prices['date'] >= '2013-12-20') & (history_prices['date'] <= '2023-12-31')]\n",
    "\n",
    "\n",
    "    # historical returns\n",
    "    for j in [1,3,7,30,90,180,365,545,730]:\n",
    "        history_prices['growth_' + str(j) + 'd'] = history_prices['Adj Close'] / history_prices['Adj Close'].shift(j)\n",
    "    \n",
    "    history_prices['growth_future_7d'] = history_prices['Adj Close'].shift(-7) / history_prices['Adj Close']\n",
    "\n",
    "    # Technical indicator\n",
    "    # SimpleMovingAverage 10D and 20D\n",
    "    history_prices['MA10'] = history_prices['Close'].rolling(10).mean()\n",
    "    history_prices['MA20'] = history_prices['Close'].rolling(20).mean()\n",
    "    history_prices['growing_ma'] = np.where(history_prices['MA10'] > history_prices['MA20'], 1, 0)\n",
    "    history_prices['high_minus_low_relative'] = (history_prices.High - history_prices.Low) / history_prices['Adj Close']\n",
    "\n",
    "    # 30D rolling volatility\n",
    "    history_prices['volatility'] = history_prices['Adj Close'].rolling(30).std()*np.sqrt(252)\n",
    "\n",
    "    history_prices['is_positive_growth_7d_future'] = np.where(history_prices['growth_future_7d'] > 1, 1, 0)\n",
    "\n",
    "    # sleep 1 sec between downloads - not to overload the API server\n",
    "    time.sleep(1)\n",
    "\n",
    "    if df_stocks.empty:\n",
    "        df_stocks = history_prices\n",
    "    else:\n",
    "        df_stocks = pd.concat([df_stocks, history_prices], ignore_index=True)"
   ]
  },
  {
   "cell_type": "code",
   "execution_count": 142,
   "metadata": {},
   "outputs": [],
   "source": [
    "df_stocks['category'] = np.where(df_stocks['ticker'].isin(LARGE_STOCKS),'LARGE_STOCKS', 'LARGEST_STOCKS')"
   ]
  },
  {
   "cell_type": "code",
   "execution_count": 135,
   "metadata": {},
   "outputs": [
    {
     "data": {
      "text/html": [
       "<div>\n",
       "<style scoped>\n",
       "    .dataframe tbody tr th:only-of-type {\n",
       "        vertical-align: middle;\n",
       "    }\n",
       "\n",
       "    .dataframe tbody tr th {\n",
       "        vertical-align: top;\n",
       "    }\n",
       "\n",
       "    .dataframe thead th {\n",
       "        text-align: right;\n",
       "    }\n",
       "</style>\n",
       "<table border=\"1\" class=\"dataframe\">\n",
       "  <thead>\n",
       "    <tr style=\"text-align: right;\">\n",
       "      <th></th>\n",
       "      <th>category</th>\n",
       "      <th>ticker</th>\n",
       "      <th>date</th>\n",
       "      <th>growth_7d</th>\n",
       "    </tr>\n",
       "  </thead>\n",
       "  <tbody>\n",
       "    <tr>\n",
       "      <th>7</th>\n",
       "      <td>LARGEST_STOCKS</td>\n",
       "      <td>MSFT</td>\n",
       "      <td>2014-01-02</td>\n",
       "      <td>1.009782</td>\n",
       "    </tr>\n",
       "    <tr>\n",
       "      <th>8</th>\n",
       "      <td>LARGEST_STOCKS</td>\n",
       "      <td>MSFT</td>\n",
       "      <td>2014-01-03</td>\n",
       "      <td>1.007920</td>\n",
       "    </tr>\n",
       "    <tr>\n",
       "      <th>9</th>\n",
       "      <td>LARGEST_STOCKS</td>\n",
       "      <td>MSFT</td>\n",
       "      <td>2014-01-06</td>\n",
       "      <td>0.974379</td>\n",
       "    </tr>\n",
       "    <tr>\n",
       "      <th>10</th>\n",
       "      <td>LARGEST_STOCKS</td>\n",
       "      <td>MSFT</td>\n",
       "      <td>2014-01-07</td>\n",
       "      <td>0.972489</td>\n",
       "    </tr>\n",
       "    <tr>\n",
       "      <th>11</th>\n",
       "      <td>LARGEST_STOCKS</td>\n",
       "      <td>MSFT</td>\n",
       "      <td>2014-01-08</td>\n",
       "      <td>0.958970</td>\n",
       "    </tr>\n",
       "    <tr>\n",
       "      <th>...</th>\n",
       "      <td>...</td>\n",
       "      <td>...</td>\n",
       "      <td>...</td>\n",
       "      <td>...</td>\n",
       "    </tr>\n",
       "    <tr>\n",
       "      <th>165039</th>\n",
       "      <td>LARGE_STOCKS</td>\n",
       "      <td>TITAN.NS</td>\n",
       "      <td>2023-12-22</td>\n",
       "      <td>1.006940</td>\n",
       "    </tr>\n",
       "    <tr>\n",
       "      <th>165040</th>\n",
       "      <td>LARGE_STOCKS</td>\n",
       "      <td>TITAN.NS</td>\n",
       "      <td>2023-12-26</td>\n",
       "      <td>1.018182</td>\n",
       "    </tr>\n",
       "    <tr>\n",
       "      <th>165041</th>\n",
       "      <td>LARGE_STOCKS</td>\n",
       "      <td>TITAN.NS</td>\n",
       "      <td>2023-12-27</td>\n",
       "      <td>1.024635</td>\n",
       "    </tr>\n",
       "    <tr>\n",
       "      <th>165042</th>\n",
       "      <td>LARGE_STOCKS</td>\n",
       "      <td>TITAN.NS</td>\n",
       "      <td>2023-12-28</td>\n",
       "      <td>1.026384</td>\n",
       "    </tr>\n",
       "    <tr>\n",
       "      <th>165043</th>\n",
       "      <td>LARGE_STOCKS</td>\n",
       "      <td>TITAN.NS</td>\n",
       "      <td>2023-12-29</td>\n",
       "      <td>1.018003</td>\n",
       "    </tr>\n",
       "  </tbody>\n",
       "</table>\n",
       "<p>164575 rows × 4 columns</p>\n",
       "</div>"
      ],
      "text/plain": [
       "              category    ticker       date  growth_7d\n",
       "7       LARGEST_STOCKS      MSFT 2014-01-02   1.009782\n",
       "8       LARGEST_STOCKS      MSFT 2014-01-03   1.007920\n",
       "9       LARGEST_STOCKS      MSFT 2014-01-06   0.974379\n",
       "10      LARGEST_STOCKS      MSFT 2014-01-07   0.972489\n",
       "11      LARGEST_STOCKS      MSFT 2014-01-08   0.958970\n",
       "...                ...       ...        ...        ...\n",
       "165039    LARGE_STOCKS  TITAN.NS 2023-12-22   1.006940\n",
       "165040    LARGE_STOCKS  TITAN.NS 2023-12-26   1.018182\n",
       "165041    LARGE_STOCKS  TITAN.NS 2023-12-27   1.024635\n",
       "165042    LARGE_STOCKS  TITAN.NS 2023-12-28   1.026384\n",
       "165043    LARGE_STOCKS  TITAN.NS 2023-12-29   1.018003\n",
       "\n",
       "[164575 rows x 4 columns]"
      ]
     },
     "execution_count": 135,
     "metadata": {},
     "output_type": "execute_result"
    }
   ],
   "source": [
    "df_stocker_7d = df_stocks[['category', 'ticker', 'date', 'growth_7d']].dropna()\n",
    "df_stocker_7d"
   ]
  },
  {
   "cell_type": "code",
   "execution_count": 136,
   "metadata": {},
   "outputs": [],
   "source": [
    "df_7d_avg = df_stocker_7d.groupby(['category','date']).agg(avg_growth_7d=('growth_7d','mean')).reset_index()\n",
    "df_transformed = df_7d_avg.pivot(index='date', columns='category', values='avg_growth_7d')\n",
    "df_transformed.columns = ['avg_growth_7D_largest', 'avg_growth_7D_large']\n",
    "df_transformed = df_transformed.reset_index()\n",
    "df_transformed['large_win'] = np.where(df_transformed['avg_growth_7D_large'] > df_transformed['avg_growth_7D_largest'], 1, 0)"
   ]
  },
  {
   "cell_type": "code",
   "execution_count": 137,
   "metadata": {},
   "outputs": [
    {
     "data": {
      "text/plain": [
       "2595"
      ]
     },
     "execution_count": 137,
     "metadata": {},
     "output_type": "execute_result"
    }
   ],
   "source": [
    "df_transformed.date.nunique()"
   ]
  },
  {
   "cell_type": "code",
   "execution_count": 140,
   "metadata": {},
   "outputs": [
    {
     "data": {
      "text/plain": [
       "48"
      ]
     },
     "execution_count": 140,
     "metadata": {},
     "output_type": "execute_result"
    }
   ],
   "source": [
    "q3ans = round(df_transformed.large_win.sum()/(df_transformed.date.nunique())*100)\n",
    "q3ans"
   ]
  },
  {
   "cell_type": "markdown",
   "metadata": {},
   "source": [
    "# Q4"
   ]
  },
  {
   "cell_type": "code",
   "execution_count": 23,
   "metadata": {},
   "outputs": [],
   "source": [
    "def ticker_download(ticker_list):\n",
    "    df_result = pd.DataFrame()\n",
    "    for i, ticker in enumerate(ticker_list):\n",
    "        print(i, ticker)\n",
    "\n",
    "        # stock price\n",
    "        df = yf.download(tickers=ticker, period='max', interval='1d')\n",
    "\n",
    "        # feature generation\n",
    "        df['ticker'] = ticker\n",
    "        df['year'] = df.index.year\n",
    "        df['month'] = df.index.month\n",
    "        df['weekday'] = df.index.weekday\n",
    "        df['date'] = pd.to_datetime(df.index.date)\n",
    "\n",
    "        df = df[(df['date'] >= '2013-12-20') & (df['date'] <= '2023-12-31')]\n",
    "\n",
    "        df['CCI'] = talib.CCI(df.High.values, df.Low.values, df.Close.values, timeperiod=14)\n",
    "\n",
    "        time.sleep(1)\n",
    "\n",
    "        if df_result.empty:\n",
    "            df_result = df\n",
    "        else:\n",
    "            df_result = pd.concat([df_result, df], ignore_index=True)\n",
    "\n",
    "    return df_result"
   ]
  },
  {
   "cell_type": "code",
   "execution_count": 29,
   "metadata": {},
   "outputs": [
    {
     "name": "stdout",
     "output_type": "stream",
     "text": [
      "0 MSFT\n"
     ]
    },
    {
     "name": "stderr",
     "output_type": "stream",
     "text": [
      "[*********************100%%**********************]  1 of 1 completed\n"
     ]
    },
    {
     "name": "stdout",
     "output_type": "stream",
     "text": [
      "1 AAPL\n"
     ]
    },
    {
     "name": "stderr",
     "output_type": "stream",
     "text": [
      "[*********************100%%**********************]  1 of 1 completed\n",
      "[*********************100%%**********************]  1 of 1 completed"
     ]
    },
    {
     "name": "stdout",
     "output_type": "stream",
     "text": [
      "2 GOOG\n"
     ]
    },
    {
     "name": "stderr",
     "output_type": "stream",
     "text": [
      "\n"
     ]
    },
    {
     "name": "stdout",
     "output_type": "stream",
     "text": [
      "3 NVDA\n"
     ]
    },
    {
     "name": "stderr",
     "output_type": "stream",
     "text": [
      "[*********************100%%**********************]  1 of 1 completed\n"
     ]
    },
    {
     "name": "stdout",
     "output_type": "stream",
     "text": [
      "4 AMZN\n"
     ]
    },
    {
     "name": "stderr",
     "output_type": "stream",
     "text": [
      "[*********************100%%**********************]  1 of 1 completed\n",
      "[*********************100%%**********************]  1 of 1 completed"
     ]
    },
    {
     "name": "stdout",
     "output_type": "stream",
     "text": [
      "5 META\n"
     ]
    },
    {
     "name": "stderr",
     "output_type": "stream",
     "text": [
      "\n"
     ]
    },
    {
     "name": "stdout",
     "output_type": "stream",
     "text": [
      "6 BRK-B\n"
     ]
    },
    {
     "name": "stderr",
     "output_type": "stream",
     "text": [
      "[*********************100%%**********************]  1 of 1 completed\n"
     ]
    },
    {
     "name": "stdout",
     "output_type": "stream",
     "text": [
      "7 LLY\n"
     ]
    },
    {
     "name": "stderr",
     "output_type": "stream",
     "text": [
      "[*********************100%%**********************]  1 of 1 completed\n"
     ]
    },
    {
     "name": "stdout",
     "output_type": "stream",
     "text": [
      "8 AVGO\n"
     ]
    },
    {
     "name": "stderr",
     "output_type": "stream",
     "text": [
      "[*********************100%%**********************]  1 of 1 completed\n"
     ]
    },
    {
     "name": "stdout",
     "output_type": "stream",
     "text": [
      "9 V\n"
     ]
    },
    {
     "name": "stderr",
     "output_type": "stream",
     "text": [
      "[*********************100%%**********************]  1 of 1 completed\n"
     ]
    },
    {
     "name": "stdout",
     "output_type": "stream",
     "text": [
      "10 JPM\n"
     ]
    },
    {
     "name": "stderr",
     "output_type": "stream",
     "text": [
      "[*********************100%%**********************]  1 of 1 completed\n"
     ]
    },
    {
     "name": "stdout",
     "output_type": "stream",
     "text": [
      "11 NVO\n"
     ]
    },
    {
     "name": "stderr",
     "output_type": "stream",
     "text": [
      "[*********************100%%**********************]  1 of 1 completed\n"
     ]
    },
    {
     "name": "stdout",
     "output_type": "stream",
     "text": [
      "12 MC.PA\n"
     ]
    },
    {
     "name": "stderr",
     "output_type": "stream",
     "text": [
      "[*********************100%%**********************]  1 of 1 completed\n"
     ]
    },
    {
     "name": "stdout",
     "output_type": "stream",
     "text": [
      "13 ASML\n"
     ]
    },
    {
     "name": "stderr",
     "output_type": "stream",
     "text": [
      "[*********************100%%**********************]  1 of 1 completed\n"
     ]
    },
    {
     "name": "stdout",
     "output_type": "stream",
     "text": [
      "14 RMS.PA\n"
     ]
    },
    {
     "name": "stderr",
     "output_type": "stream",
     "text": [
      "[*********************100%%**********************]  1 of 1 completed\n"
     ]
    },
    {
     "name": "stdout",
     "output_type": "stream",
     "text": [
      "15 OR.PA\n"
     ]
    },
    {
     "name": "stderr",
     "output_type": "stream",
     "text": [
      "[*********************100%%**********************]  1 of 1 completed\n"
     ]
    },
    {
     "name": "stdout",
     "output_type": "stream",
     "text": [
      "16 SAP\n"
     ]
    },
    {
     "name": "stderr",
     "output_type": "stream",
     "text": [
      "[*********************100%%**********************]  1 of 1 completed\n"
     ]
    },
    {
     "name": "stdout",
     "output_type": "stream",
     "text": [
      "17 ACN\n"
     ]
    },
    {
     "name": "stderr",
     "output_type": "stream",
     "text": [
      "[*********************100%%**********************]  1 of 1 completed\n"
     ]
    },
    {
     "name": "stdout",
     "output_type": "stream",
     "text": [
      "18 TTE\n"
     ]
    },
    {
     "name": "stderr",
     "output_type": "stream",
     "text": [
      "[*********************100%%**********************]  1 of 1 completed\n"
     ]
    },
    {
     "name": "stdout",
     "output_type": "stream",
     "text": [
      "19 SIE.DE\n"
     ]
    },
    {
     "name": "stderr",
     "output_type": "stream",
     "text": [
      "[*********************100%%**********************]  1 of 1 completed\n"
     ]
    },
    {
     "name": "stdout",
     "output_type": "stream",
     "text": [
      "20 IDEXY\n"
     ]
    },
    {
     "name": "stderr",
     "output_type": "stream",
     "text": [
      "[*********************100%%**********************]  1 of 1 completed\n"
     ]
    },
    {
     "name": "stdout",
     "output_type": "stream",
     "text": [
      "21 CDI.PA\n"
     ]
    },
    {
     "name": "stderr",
     "output_type": "stream",
     "text": [
      "[*********************100%%**********************]  1 of 1 completed\n"
     ]
    },
    {
     "name": "stdout",
     "output_type": "stream",
     "text": [
      "22 RELIANCE.NS\n"
     ]
    },
    {
     "name": "stderr",
     "output_type": "stream",
     "text": [
      "[*********************100%%**********************]  1 of 1 completed\n"
     ]
    },
    {
     "name": "stdout",
     "output_type": "stream",
     "text": [
      "23 TCS.NS\n"
     ]
    },
    {
     "name": "stderr",
     "output_type": "stream",
     "text": [
      "[*********************100%%**********************]  1 of 1 completed\n"
     ]
    },
    {
     "name": "stdout",
     "output_type": "stream",
     "text": [
      "24 HDB\n"
     ]
    },
    {
     "name": "stderr",
     "output_type": "stream",
     "text": [
      "[*********************100%%**********************]  1 of 1 completed\n"
     ]
    },
    {
     "name": "stdout",
     "output_type": "stream",
     "text": [
      "25 BHARTIARTL.NS\n"
     ]
    },
    {
     "name": "stderr",
     "output_type": "stream",
     "text": [
      "[*********************100%%**********************]  1 of 1 completed\n"
     ]
    },
    {
     "name": "stdout",
     "output_type": "stream",
     "text": [
      "26 IBN\n"
     ]
    },
    {
     "name": "stderr",
     "output_type": "stream",
     "text": [
      "[*********************100%%**********************]  1 of 1 completed\n"
     ]
    },
    {
     "name": "stdout",
     "output_type": "stream",
     "text": [
      "27 SBIN.NS\n"
     ]
    },
    {
     "name": "stderr",
     "output_type": "stream",
     "text": [
      "[*********************100%%**********************]  1 of 1 completed\n",
      "[*********************100%%**********************]  1 of 1 completed"
     ]
    },
    {
     "name": "stdout",
     "output_type": "stream",
     "text": [
      "28 LICI.NS\n"
     ]
    },
    {
     "name": "stderr",
     "output_type": "stream",
     "text": [
      "\n"
     ]
    },
    {
     "name": "stdout",
     "output_type": "stream",
     "text": [
      "29 INFY\n"
     ]
    },
    {
     "name": "stderr",
     "output_type": "stream",
     "text": [
      "[*********************100%%**********************]  1 of 1 completed\n"
     ]
    },
    {
     "name": "stdout",
     "output_type": "stream",
     "text": [
      "30 ITC.NS\n"
     ]
    },
    {
     "name": "stderr",
     "output_type": "stream",
     "text": [
      "[*********************100%%**********************]  1 of 1 completed\n"
     ]
    },
    {
     "name": "stdout",
     "output_type": "stream",
     "text": [
      "31 HINDUNILVR.NS\n"
     ]
    },
    {
     "name": "stderr",
     "output_type": "stream",
     "text": [
      "[*********************100%%**********************]  1 of 1 completed\n"
     ]
    },
    {
     "name": "stdout",
     "output_type": "stream",
     "text": [
      "32 LT.NS\n"
     ]
    },
    {
     "name": "stderr",
     "output_type": "stream",
     "text": [
      "[*********************100%%**********************]  1 of 1 completed\n"
     ]
    }
   ],
   "source": [
    "df_stocks_q4 = ticker_download(LARGEST_STOCKS)"
   ]
  },
  {
   "cell_type": "code",
   "execution_count": 80,
   "metadata": {},
   "outputs": [],
   "source": [
    "df_stocks_q4_filter = df_stocks_q4[(df_stocks_q4['date'].dt.day_of_week == 4) & ~df_stocks_q4['CCI'].isna()]"
   ]
  },
  {
   "cell_type": "code",
   "execution_count": 91,
   "metadata": {},
   "outputs": [
    {
     "data": {
      "text/html": [
       "<div>\n",
       "<style scoped>\n",
       "    .dataframe tbody tr th:only-of-type {\n",
       "        vertical-align: middle;\n",
       "    }\n",
       "\n",
       "    .dataframe tbody tr th {\n",
       "        vertical-align: top;\n",
       "    }\n",
       "\n",
       "    .dataframe thead th {\n",
       "        text-align: right;\n",
       "    }\n",
       "</style>\n",
       "<table border=\"1\" class=\"dataframe\">\n",
       "  <thead>\n",
       "    <tr style=\"text-align: right;\">\n",
       "      <th></th>\n",
       "      <th>Open</th>\n",
       "      <th>High</th>\n",
       "      <th>Low</th>\n",
       "      <th>Close</th>\n",
       "      <th>Adj Close</th>\n",
       "      <th>Volume</th>\n",
       "      <th>ticker</th>\n",
       "      <th>year</th>\n",
       "      <th>month</th>\n",
       "      <th>weekday</th>\n",
       "      <th>date</th>\n",
       "      <th>CCI</th>\n",
       "    </tr>\n",
       "  </thead>\n",
       "  <tbody>\n",
       "    <tr>\n",
       "      <th>13</th>\n",
       "      <td>35.900002</td>\n",
       "      <td>36.150002</td>\n",
       "      <td>35.750000</td>\n",
       "      <td>36.040001</td>\n",
       "      <td>30.291704</td>\n",
       "      <td>40548800</td>\n",
       "      <td>MSFT</td>\n",
       "      <td>2014</td>\n",
       "      <td>1</td>\n",
       "      <td>4</td>\n",
       "      <td>2014-01-10</td>\n",
       "      <td>-98.137328</td>\n",
       "    </tr>\n",
       "    <tr>\n",
       "      <th>18</th>\n",
       "      <td>36.830002</td>\n",
       "      <td>36.830002</td>\n",
       "      <td>36.150002</td>\n",
       "      <td>36.380001</td>\n",
       "      <td>30.577467</td>\n",
       "      <td>46267500</td>\n",
       "      <td>MSFT</td>\n",
       "      <td>2014</td>\n",
       "      <td>1</td>\n",
       "      <td>4</td>\n",
       "      <td>2014-01-17</td>\n",
       "      <td>9.739628</td>\n",
       "    </tr>\n",
       "    <tr>\n",
       "      <th>22</th>\n",
       "      <td>37.450001</td>\n",
       "      <td>37.549999</td>\n",
       "      <td>36.529999</td>\n",
       "      <td>36.810001</td>\n",
       "      <td>30.938900</td>\n",
       "      <td>76395500</td>\n",
       "      <td>MSFT</td>\n",
       "      <td>2014</td>\n",
       "      <td>1</td>\n",
       "      <td>4</td>\n",
       "      <td>2014-01-24</td>\n",
       "      <td>137.751671</td>\n",
       "    </tr>\n",
       "    <tr>\n",
       "      <th>27</th>\n",
       "      <td>36.950001</td>\n",
       "      <td>37.889999</td>\n",
       "      <td>36.560001</td>\n",
       "      <td>37.840000</td>\n",
       "      <td>31.804604</td>\n",
       "      <td>93162300</td>\n",
       "      <td>MSFT</td>\n",
       "      <td>2014</td>\n",
       "      <td>1</td>\n",
       "      <td>4</td>\n",
       "      <td>2014-01-31</td>\n",
       "      <td>176.485954</td>\n",
       "    </tr>\n",
       "    <tr>\n",
       "      <th>32</th>\n",
       "      <td>36.320000</td>\n",
       "      <td>36.590000</td>\n",
       "      <td>36.009998</td>\n",
       "      <td>36.560001</td>\n",
       "      <td>30.728765</td>\n",
       "      <td>33260500</td>\n",
       "      <td>MSFT</td>\n",
       "      <td>2014</td>\n",
       "      <td>2</td>\n",
       "      <td>4</td>\n",
       "      <td>2014-02-07</td>\n",
       "      <td>-11.391088</td>\n",
       "    </tr>\n",
       "    <tr>\n",
       "      <th>...</th>\n",
       "      <td>...</td>\n",
       "      <td>...</td>\n",
       "      <td>...</td>\n",
       "      <td>...</td>\n",
       "      <td>...</td>\n",
       "      <td>...</td>\n",
       "      <td>...</td>\n",
       "      <td>...</td>\n",
       "      <td>...</td>\n",
       "      <td>...</td>\n",
       "      <td>...</td>\n",
       "      <td>...</td>\n",
       "    </tr>\n",
       "    <tr>\n",
       "      <th>80959</th>\n",
       "      <td>3129.949951</td>\n",
       "      <td>3197.949951</td>\n",
       "      <td>3121.050049</td>\n",
       "      <td>3190.649902</td>\n",
       "      <td>3190.649902</td>\n",
       "      <td>2112908</td>\n",
       "      <td>LT.NS</td>\n",
       "      <td>2023</td>\n",
       "      <td>12</td>\n",
       "      <td>4</td>\n",
       "      <td>2023-12-01</td>\n",
       "      <td>273.278565</td>\n",
       "    </tr>\n",
       "    <tr>\n",
       "      <th>80964</th>\n",
       "      <td>3377.000000</td>\n",
       "      <td>3430.000000</td>\n",
       "      <td>3366.000000</td>\n",
       "      <td>3378.449951</td>\n",
       "      <td>3378.449951</td>\n",
       "      <td>2428891</td>\n",
       "      <td>LT.NS</td>\n",
       "      <td>2023</td>\n",
       "      <td>12</td>\n",
       "      <td>4</td>\n",
       "      <td>2023-12-08</td>\n",
       "      <td>117.076223</td>\n",
       "    </tr>\n",
       "    <tr>\n",
       "      <th>80969</th>\n",
       "      <td>3435.149902</td>\n",
       "      <td>3498.899902</td>\n",
       "      <td>3432.850098</td>\n",
       "      <td>3488.000000</td>\n",
       "      <td>3488.000000</td>\n",
       "      <td>2632935</td>\n",
       "      <td>LT.NS</td>\n",
       "      <td>2023</td>\n",
       "      <td>12</td>\n",
       "      <td>4</td>\n",
       "      <td>2023-12-15</td>\n",
       "      <td>103.918813</td>\n",
       "    </tr>\n",
       "    <tr>\n",
       "      <th>80974</th>\n",
       "      <td>3424.000000</td>\n",
       "      <td>3496.000000</td>\n",
       "      <td>3408.600098</td>\n",
       "      <td>3477.949951</td>\n",
       "      <td>3477.949951</td>\n",
       "      <td>1681707</td>\n",
       "      <td>LT.NS</td>\n",
       "      <td>2023</td>\n",
       "      <td>12</td>\n",
       "      <td>4</td>\n",
       "      <td>2023-12-22</td>\n",
       "      <td>70.767162</td>\n",
       "    </tr>\n",
       "    <tr>\n",
       "      <th>80978</th>\n",
       "      <td>3531.000000</td>\n",
       "      <td>3540.000000</td>\n",
       "      <td>3495.000000</td>\n",
       "      <td>3526.000000</td>\n",
       "      <td>3526.000000</td>\n",
       "      <td>968577</td>\n",
       "      <td>LT.NS</td>\n",
       "      <td>2023</td>\n",
       "      <td>12</td>\n",
       "      <td>4</td>\n",
       "      <td>2023-12-29</td>\n",
       "      <td>87.014290</td>\n",
       "    </tr>\n",
       "  </tbody>\n",
       "</table>\n",
       "<p>16042 rows × 12 columns</p>\n",
       "</div>"
      ],
      "text/plain": [
       "              Open         High          Low        Close    Adj Close  \\\n",
       "13       35.900002    36.150002    35.750000    36.040001    30.291704   \n",
       "18       36.830002    36.830002    36.150002    36.380001    30.577467   \n",
       "22       37.450001    37.549999    36.529999    36.810001    30.938900   \n",
       "27       36.950001    37.889999    36.560001    37.840000    31.804604   \n",
       "32       36.320000    36.590000    36.009998    36.560001    30.728765   \n",
       "...            ...          ...          ...          ...          ...   \n",
       "80959  3129.949951  3197.949951  3121.050049  3190.649902  3190.649902   \n",
       "80964  3377.000000  3430.000000  3366.000000  3378.449951  3378.449951   \n",
       "80969  3435.149902  3498.899902  3432.850098  3488.000000  3488.000000   \n",
       "80974  3424.000000  3496.000000  3408.600098  3477.949951  3477.949951   \n",
       "80978  3531.000000  3540.000000  3495.000000  3526.000000  3526.000000   \n",
       "\n",
       "         Volume ticker  year  month  weekday       date         CCI  \n",
       "13     40548800   MSFT  2014      1        4 2014-01-10  -98.137328  \n",
       "18     46267500   MSFT  2014      1        4 2014-01-17    9.739628  \n",
       "22     76395500   MSFT  2014      1        4 2014-01-24  137.751671  \n",
       "27     93162300   MSFT  2014      1        4 2014-01-31  176.485954  \n",
       "32     33260500   MSFT  2014      2        4 2014-02-07  -11.391088  \n",
       "...         ...    ...   ...    ...      ...        ...         ...  \n",
       "80959   2112908  LT.NS  2023     12        4 2023-12-01  273.278565  \n",
       "80964   2428891  LT.NS  2023     12        4 2023-12-08  117.076223  \n",
       "80969   2632935  LT.NS  2023     12        4 2023-12-15  103.918813  \n",
       "80974   1681707  LT.NS  2023     12        4 2023-12-22   70.767162  \n",
       "80978    968577  LT.NS  2023     12        4 2023-12-29   87.014290  \n",
       "\n",
       "[16042 rows x 12 columns]"
      ]
     },
     "execution_count": 91,
     "metadata": {},
     "output_type": "execute_result"
    }
   ],
   "source": [
    "df_stocks_q4_filter"
   ]
  },
  {
   "cell_type": "code",
   "execution_count": 81,
   "metadata": {},
   "outputs": [],
   "source": [
    "df_msft = df_stocks_q4_filter[df_stocks_q4_filter['ticker'] == 'MSFT']"
   ]
  },
  {
   "cell_type": "code",
   "execution_count": 114,
   "metadata": {},
   "outputs": [],
   "source": [
    "df_result = pd.DataFrame()\n",
    "\n",
    "for ticker in df_stocks_q4_filter['ticker'].unique():\n",
    "    df = df_stocks_q4_filter[df_stocks_q4_filter['ticker'] == ticker].copy()\n",
    "    df['sell_price'] = df['Adj Close'].shift(-1)  # Assign future price before calculating other columns\n",
    "    df['investment'] = np.where((df['CCI'] > 200) & (df['Adj Close'] <= 1000), 1000, 0)\n",
    "    df['amount'] = np.floor(df['investment'] / df['Adj Close']).astype(int)\n",
    "    df['profit'] = (df['sell_price'] - df['Adj Close']) * df['amount']\n",
    "    df = df.dropna()\n",
    "    # Create a DataFrame for this ticker's results\n",
    "    df_temp_result = pd.DataFrame({\n",
    "        'ticker': [ticker],\n",
    "        'profit': [df['profit'].sum()]\n",
    "    })\n",
    "\n",
    "    # Concatenate the result for this ticker\n",
    "    df_result = pd.concat([df_result, df_temp_result], axis=0)\n",
    "\n",
    "df_result.reset_index(drop=True, inplace=True)"
   ]
  },
  {
   "cell_type": "code",
   "execution_count": 119,
   "metadata": {},
   "outputs": [
    {
     "data": {
      "text/plain": [
       "0.7593863606452942"
      ]
     },
     "execution_count": 119,
     "metadata": {},
     "output_type": "execute_result"
    }
   ],
   "source": [
    "df_result.profit.sum()/1000"
   ]
  }
 ],
 "metadata": {
  "kernelspec": {
   "display_name": "base",
   "language": "python",
   "name": "python3"
  },
  "language_info": {
   "codemirror_mode": {
    "name": "ipython",
    "version": 3
   },
   "file_extension": ".py",
   "mimetype": "text/x-python",
   "name": "python",
   "nbconvert_exporter": "python",
   "pygments_lexer": "ipython3",
   "version": "3.11.5"
  }
 },
 "nbformat": 4,
 "nbformat_minor": 2
}
