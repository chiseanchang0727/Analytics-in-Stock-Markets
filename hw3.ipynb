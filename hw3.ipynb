{
 "cells": [
  {
   "cell_type": "code",
   "execution_count": 140,
   "metadata": {},
   "outputs": [],
   "source": [
    "# IMPORTS\n",
    "import numpy as np\n",
    "import pandas as pd\n",
    "\n",
    "#Fin Data Sources\n",
    "import yfinance as yf\n",
    "import pandas_datareader as pdr\n",
    "\n",
    "#Data viz\n",
    "import plotly.graph_objs as go\n",
    "import plotly.graph_objects as go\n",
    "import plotly.express as px\n",
    "\n",
    "import math\n",
    "import time\n",
    "from datetime import date, timedelta\n",
    "import datetime\n",
    "import calendar\n",
    "\n",
    "# for graphs\n",
    "import matplotlib.pyplot as plt\n",
    "\n",
    "from sklearn.impute import SimpleImputer\n",
    "from sklearn.tree import DecisionTreeClassifier\n",
    "from sklearn.metrics import accuracy_score\n",
    "from sklearn.metrics import precision_score\n",
    "from sklearn.model_selection import train_test_split"
   ]
  },
  {
   "cell_type": "markdown",
   "metadata": {},
   "source": [
    "# Q1"
   ]
  },
  {
   "cell_type": "code",
   "execution_count": 141,
   "metadata": {},
   "outputs": [],
   "source": [
    "df_full_raw = pd.read_parquet(\"content/stocks_df_combined_2024_05_07.parquet.brotli\")\n",
    "df_full = df_full_raw[df_full_raw.Date>='2000-01-01']"
   ]
  },
  {
   "cell_type": "code",
   "execution_count": 142,
   "metadata": {},
   "outputs": [],
   "source": [
    "TO_PREDICT = [g for g in df_full.keys() if (g.find('future')>=0)]\n",
    "\n",
    "GROWTH = [g for g in df_full.keys() if (g.find('growth_')==0)&(g.find('future')<0)]\n",
    "\n",
    "CUSTOM_NUMERICAL = ['SMA10', 'SMA20', 'growing_moving_average', 'high_minus_low_relative','volatility', 'ln_volume']\n",
    "\n",
    "TECHNICAL_INDICATORS = ['adx', 'adxr', 'apo', 'aroon_1','aroon_2', 'aroonosc',\n",
    " 'bop', 'cci', 'cmo','dx', 'macd', 'macdsignal', 'macdhist', 'macd_ext',\n",
    " 'macdsignal_ext', 'macdhist_ext', 'macd_fix', 'macdsignal_fix',\n",
    " 'macdhist_fix', 'mfi', 'minus_di', 'mom', 'plus_di', 'dm', 'ppo',\n",
    " 'roc', 'rocp', 'rocr', 'rocr100', 'rsi', 'slowk', 'slowd', 'fastk',\n",
    " 'fastd', 'fastk_rsi', 'fastd_rsi', 'trix', 'ultosc', 'willr',\n",
    " 'ad', 'adosc', 'obv', 'atr', 'natr', 'ht_dcperiod', 'ht_dcphase',\n",
    " 'ht_phasor_inphase', 'ht_phasor_quadrature', 'ht_sine_sine', 'ht_sine_leadsine',\n",
    " 'ht_trendmod', 'avgprice', 'medprice', 'typprice', 'wclprice']\n",
    "\n",
    "TECHNICAL_PATTERNS = [g for g in df_full.keys() if g.find('cdl')>=0]\n",
    "\n",
    "\n",
    "MACRO = ['gdppot_us_yoy', 'gdppot_us_qoq', 'cpi_core_yoy', 'cpi_core_mom', 'FEDFUNDS',\n",
    " 'DGS1', 'DGS5', 'DGS10']"
   ]
  },
  {
   "cell_type": "code",
   "execution_count": 143,
   "metadata": {},
   "outputs": [],
   "source": [
    "NUMERICAL = GROWTH + TECHNICAL_INDICATORS + TECHNICAL_PATTERNS + CUSTOM_NUMERICAL + MACRO"
   ]
  },
  {
   "cell_type": "code",
   "execution_count": 144,
   "metadata": {},
   "outputs": [
    {
     "data": {
      "text/plain": [
       "3490    0\n",
       "3491    0\n",
       "3492    0\n",
       "3493    0\n",
       "3494    1\n",
       "       ..\n",
       "5422    0\n",
       "5423    0\n",
       "5424    0\n",
       "5425    0\n",
       "5426    0\n",
       "Name: is_positive_growth_5d_future, Length: 182675, dtype: int64"
      ]
     },
     "execution_count": 144,
     "metadata": {},
     "output_type": "execute_result"
    }
   ],
   "source": [
    "df_full['is_positive_growth_5d_future']"
   ]
  },
  {
   "cell_type": "code",
   "execution_count": 145,
   "metadata": {},
   "outputs": [],
   "source": [
    "def add_week_of_month(df, column):\n",
    "    # Ensure the column is in datetime format\n",
    "    df[column] = pd.to_datetime(df[column])\n",
    "    \n",
    "    # Calculate the week of the month\n",
    "    df['WOM'] = df[column].apply(lambda x: f\"{x.strftime('%b')}_w{math.ceil(x.day / 7.0)}\")\n",
    "    \n",
    "    return df"
   ]
  },
  {
   "cell_type": "code",
   "execution_count": 146,
   "metadata": {},
   "outputs": [],
   "source": [
    "df_full = add_week_of_month(df_full, 'Date')"
   ]
  },
  {
   "cell_type": "code",
   "execution_count": 147,
   "metadata": {},
   "outputs": [],
   "source": [
    "CATEGORICAL = ['Month', 'Weekday', 'Ticker', 'ticker_type', 'WOM']"
   ]
  },
  {
   "cell_type": "code",
   "execution_count": 148,
   "metadata": {},
   "outputs": [],
   "source": [
    "df_cate_onehot = pd.get_dummies(df_full[CATEGORICAL], dtype='int32')"
   ]
  },
  {
   "cell_type": "code",
   "execution_count": 149,
   "metadata": {},
   "outputs": [
    {
     "data": {
      "text/html": [
       "<div>\n",
       "<style scoped>\n",
       "    .dataframe tbody tr th:only-of-type {\n",
       "        vertical-align: middle;\n",
       "    }\n",
       "\n",
       "    .dataframe tbody tr th {\n",
       "        vertical-align: top;\n",
       "    }\n",
       "\n",
       "    .dataframe thead th {\n",
       "        text-align: right;\n",
       "    }\n",
       "</style>\n",
       "<table border=\"1\" class=\"dataframe\">\n",
       "  <thead>\n",
       "    <tr style=\"text-align: right;\">\n",
       "      <th></th>\n",
       "      <th>Month</th>\n",
       "      <th>Weekday</th>\n",
       "      <th>Ticker_AAPL</th>\n",
       "      <th>Ticker_ACN</th>\n",
       "      <th>Ticker_AMZN</th>\n",
       "      <th>Ticker_ASML</th>\n",
       "      <th>Ticker_AVGO</th>\n",
       "      <th>Ticker_BHARTIARTL.NS</th>\n",
       "      <th>Ticker_BRK-B</th>\n",
       "      <th>Ticker_CDI.PA</th>\n",
       "      <th>...</th>\n",
       "      <th>WOM_Oct_w1</th>\n",
       "      <th>WOM_Oct_w2</th>\n",
       "      <th>WOM_Oct_w3</th>\n",
       "      <th>WOM_Oct_w4</th>\n",
       "      <th>WOM_Oct_w5</th>\n",
       "      <th>WOM_Sep_w1</th>\n",
       "      <th>WOM_Sep_w2</th>\n",
       "      <th>WOM_Sep_w3</th>\n",
       "      <th>WOM_Sep_w4</th>\n",
       "      <th>WOM_Sep_w5</th>\n",
       "    </tr>\n",
       "  </thead>\n",
       "  <tbody>\n",
       "    <tr>\n",
       "      <th>3490</th>\n",
       "      <td>2000-01-01</td>\n",
       "      <td>0</td>\n",
       "      <td>0</td>\n",
       "      <td>0</td>\n",
       "      <td>0</td>\n",
       "      <td>0</td>\n",
       "      <td>0</td>\n",
       "      <td>0</td>\n",
       "      <td>0</td>\n",
       "      <td>0</td>\n",
       "      <td>...</td>\n",
       "      <td>0</td>\n",
       "      <td>0</td>\n",
       "      <td>0</td>\n",
       "      <td>0</td>\n",
       "      <td>0</td>\n",
       "      <td>0</td>\n",
       "      <td>0</td>\n",
       "      <td>0</td>\n",
       "      <td>0</td>\n",
       "      <td>0</td>\n",
       "    </tr>\n",
       "    <tr>\n",
       "      <th>3491</th>\n",
       "      <td>2000-01-01</td>\n",
       "      <td>1</td>\n",
       "      <td>0</td>\n",
       "      <td>0</td>\n",
       "      <td>0</td>\n",
       "      <td>0</td>\n",
       "      <td>0</td>\n",
       "      <td>0</td>\n",
       "      <td>0</td>\n",
       "      <td>0</td>\n",
       "      <td>...</td>\n",
       "      <td>0</td>\n",
       "      <td>0</td>\n",
       "      <td>0</td>\n",
       "      <td>0</td>\n",
       "      <td>0</td>\n",
       "      <td>0</td>\n",
       "      <td>0</td>\n",
       "      <td>0</td>\n",
       "      <td>0</td>\n",
       "      <td>0</td>\n",
       "    </tr>\n",
       "    <tr>\n",
       "      <th>3492</th>\n",
       "      <td>2000-01-01</td>\n",
       "      <td>2</td>\n",
       "      <td>0</td>\n",
       "      <td>0</td>\n",
       "      <td>0</td>\n",
       "      <td>0</td>\n",
       "      <td>0</td>\n",
       "      <td>0</td>\n",
       "      <td>0</td>\n",
       "      <td>0</td>\n",
       "      <td>...</td>\n",
       "      <td>0</td>\n",
       "      <td>0</td>\n",
       "      <td>0</td>\n",
       "      <td>0</td>\n",
       "      <td>0</td>\n",
       "      <td>0</td>\n",
       "      <td>0</td>\n",
       "      <td>0</td>\n",
       "      <td>0</td>\n",
       "      <td>0</td>\n",
       "    </tr>\n",
       "    <tr>\n",
       "      <th>3493</th>\n",
       "      <td>2000-01-01</td>\n",
       "      <td>3</td>\n",
       "      <td>0</td>\n",
       "      <td>0</td>\n",
       "      <td>0</td>\n",
       "      <td>0</td>\n",
       "      <td>0</td>\n",
       "      <td>0</td>\n",
       "      <td>0</td>\n",
       "      <td>0</td>\n",
       "      <td>...</td>\n",
       "      <td>0</td>\n",
       "      <td>0</td>\n",
       "      <td>0</td>\n",
       "      <td>0</td>\n",
       "      <td>0</td>\n",
       "      <td>0</td>\n",
       "      <td>0</td>\n",
       "      <td>0</td>\n",
       "      <td>0</td>\n",
       "      <td>0</td>\n",
       "    </tr>\n",
       "    <tr>\n",
       "      <th>3494</th>\n",
       "      <td>2000-01-01</td>\n",
       "      <td>4</td>\n",
       "      <td>0</td>\n",
       "      <td>0</td>\n",
       "      <td>0</td>\n",
       "      <td>0</td>\n",
       "      <td>0</td>\n",
       "      <td>0</td>\n",
       "      <td>0</td>\n",
       "      <td>0</td>\n",
       "      <td>...</td>\n",
       "      <td>0</td>\n",
       "      <td>0</td>\n",
       "      <td>0</td>\n",
       "      <td>0</td>\n",
       "      <td>0</td>\n",
       "      <td>0</td>\n",
       "      <td>0</td>\n",
       "      <td>0</td>\n",
       "      <td>0</td>\n",
       "      <td>0</td>\n",
       "    </tr>\n",
       "  </tbody>\n",
       "</table>\n",
       "<p>5 rows × 98 columns</p>\n",
       "</div>"
      ],
      "text/plain": [
       "          Month  Weekday  Ticker_AAPL  Ticker_ACN  Ticker_AMZN  Ticker_ASML  \\\n",
       "3490 2000-01-01        0            0           0            0            0   \n",
       "3491 2000-01-01        1            0           0            0            0   \n",
       "3492 2000-01-01        2            0           0            0            0   \n",
       "3493 2000-01-01        3            0           0            0            0   \n",
       "3494 2000-01-01        4            0           0            0            0   \n",
       "\n",
       "      Ticker_AVGO  Ticker_BHARTIARTL.NS  Ticker_BRK-B  Ticker_CDI.PA  ...  \\\n",
       "3490            0                     0             0              0  ...   \n",
       "3491            0                     0             0              0  ...   \n",
       "3492            0                     0             0              0  ...   \n",
       "3493            0                     0             0              0  ...   \n",
       "3494            0                     0             0              0  ...   \n",
       "\n",
       "      WOM_Oct_w1  WOM_Oct_w2  WOM_Oct_w3  WOM_Oct_w4  WOM_Oct_w5  WOM_Sep_w1  \\\n",
       "3490           0           0           0           0           0           0   \n",
       "3491           0           0           0           0           0           0   \n",
       "3492           0           0           0           0           0           0   \n",
       "3493           0           0           0           0           0           0   \n",
       "3494           0           0           0           0           0           0   \n",
       "\n",
       "      WOM_Sep_w2  WOM_Sep_w3  WOM_Sep_w4  WOM_Sep_w5  \n",
       "3490           0           0           0           0  \n",
       "3491           0           0           0           0  \n",
       "3492           0           0           0           0  \n",
       "3493           0           0           0           0  \n",
       "3494           0           0           0           0  \n",
       "\n",
       "[5 rows x 98 columns]"
      ]
     },
     "execution_count": 149,
     "metadata": {},
     "output_type": "execute_result"
    }
   ],
   "source": [
    "df_cate_onehot.head()"
   ]
  },
  {
   "cell_type": "code",
   "execution_count": 150,
   "metadata": {},
   "outputs": [
    {
     "name": "stdout",
     "output_type": "stream",
     "text": [
      "['Month', 'Weekday', 'Ticker_AAPL', 'Ticker_ACN', 'Ticker_AMZN', 'Ticker_ASML', 'Ticker_AVGO', 'Ticker_BHARTIARTL.NS', 'Ticker_BRK-B', 'Ticker_CDI.PA', 'Ticker_GOOG', 'Ticker_HDB', 'Ticker_HINDUNILVR.NS', 'Ticker_IBN', 'Ticker_IDEXY', 'Ticker_INFY', 'Ticker_ITC.NS', 'Ticker_JPM', 'Ticker_LICI.NS', 'Ticker_LLY', 'Ticker_LT.NS', 'Ticker_MC.PA', 'Ticker_META', 'Ticker_MSFT', 'Ticker_NVDA', 'Ticker_NVO', 'Ticker_OR.PA', 'Ticker_RELIANCE.NS', 'Ticker_RMS.PA', 'Ticker_SAP', 'Ticker_SBIN.NS', 'Ticker_SIE.DE', 'Ticker_TCS.NS', 'Ticker_TTE', 'Ticker_V', 'ticker_type_EU', 'ticker_type_INDIA', 'ticker_type_US', 'WOM_Apr_w1', 'WOM_Apr_w2', 'WOM_Apr_w3', 'WOM_Apr_w4', 'WOM_Apr_w5', 'WOM_Aug_w1', 'WOM_Aug_w2', 'WOM_Aug_w3', 'WOM_Aug_w4', 'WOM_Aug_w5', 'WOM_Dec_w1', 'WOM_Dec_w2', 'WOM_Dec_w3', 'WOM_Dec_w4', 'WOM_Dec_w5', 'WOM_Feb_w1', 'WOM_Feb_w2', 'WOM_Feb_w3', 'WOM_Feb_w4', 'WOM_Feb_w5', 'WOM_Jan_w1', 'WOM_Jan_w2', 'WOM_Jan_w3', 'WOM_Jan_w4', 'WOM_Jan_w5', 'WOM_Jul_w1', 'WOM_Jul_w2', 'WOM_Jul_w3', 'WOM_Jul_w4', 'WOM_Jul_w5', 'WOM_Jun_w1', 'WOM_Jun_w2', 'WOM_Jun_w3', 'WOM_Jun_w4', 'WOM_Jun_w5', 'WOM_Mar_w1', 'WOM_Mar_w2', 'WOM_Mar_w3', 'WOM_Mar_w4', 'WOM_Mar_w5', 'WOM_May_w1', 'WOM_May_w2', 'WOM_May_w3', 'WOM_May_w4', 'WOM_May_w5', 'WOM_Nov_w1', 'WOM_Nov_w2', 'WOM_Nov_w3', 'WOM_Nov_w4', 'WOM_Nov_w5', 'WOM_Oct_w1', 'WOM_Oct_w2', 'WOM_Oct_w3', 'WOM_Oct_w4', 'WOM_Oct_w5', 'WOM_Sep_w1', 'WOM_Sep_w2', 'WOM_Sep_w3', 'WOM_Sep_w4', 'WOM_Sep_w5']\n"
     ]
    }
   ],
   "source": [
    "DUMMIES = df_cate_onehot.columns.to_list()\n",
    "\n",
    "assert df_cate_onehot.keys().to_list() == DUMMIES\n",
    "\n",
    "print(DUMMIES)"
   ]
  },
  {
   "cell_type": "code",
   "execution_count": 151,
   "metadata": {},
   "outputs": [],
   "source": [
    "df_with_dummies = pd.concat([df_full, df_cate_onehot], axis=1)"
   ]
  },
  {
   "cell_type": "code",
   "execution_count": 152,
   "metadata": {},
   "outputs": [
    {
     "data": {
      "text/html": [
       "<div>\n",
       "<style scoped>\n",
       "    .dataframe tbody tr th:only-of-type {\n",
       "        vertical-align: middle;\n",
       "    }\n",
       "\n",
       "    .dataframe tbody tr th {\n",
       "        vertical-align: top;\n",
       "    }\n",
       "\n",
       "    .dataframe thead th {\n",
       "        text-align: right;\n",
       "    }\n",
       "</style>\n",
       "<table border=\"1\" class=\"dataframe\">\n",
       "  <thead>\n",
       "    <tr style=\"text-align: right;\">\n",
       "      <th></th>\n",
       "      <th>Open</th>\n",
       "      <th>High</th>\n",
       "      <th>Low</th>\n",
       "      <th>Close</th>\n",
       "      <th>Adj Close_x</th>\n",
       "      <th>Volume</th>\n",
       "      <th>Ticker</th>\n",
       "      <th>Year</th>\n",
       "      <th>Month</th>\n",
       "      <th>Weekday</th>\n",
       "      <th>...</th>\n",
       "      <th>WOM_Oct_w1</th>\n",
       "      <th>WOM_Oct_w2</th>\n",
       "      <th>WOM_Oct_w3</th>\n",
       "      <th>WOM_Oct_w4</th>\n",
       "      <th>WOM_Oct_w5</th>\n",
       "      <th>WOM_Sep_w1</th>\n",
       "      <th>WOM_Sep_w2</th>\n",
       "      <th>WOM_Sep_w3</th>\n",
       "      <th>WOM_Sep_w4</th>\n",
       "      <th>WOM_Sep_w5</th>\n",
       "    </tr>\n",
       "  </thead>\n",
       "  <tbody>\n",
       "    <tr>\n",
       "      <th>3490</th>\n",
       "      <td>58.68750</td>\n",
       "      <td>59.3125</td>\n",
       "      <td>56.00000</td>\n",
       "      <td>58.28125</td>\n",
       "      <td>36.065567</td>\n",
       "      <td>53228400.0</td>\n",
       "      <td>MSFT</td>\n",
       "      <td>2000</td>\n",
       "      <td>2000-01-01</td>\n",
       "      <td>0</td>\n",
       "      <td>...</td>\n",
       "      <td>0</td>\n",
       "      <td>0</td>\n",
       "      <td>0</td>\n",
       "      <td>0</td>\n",
       "      <td>0</td>\n",
       "      <td>0</td>\n",
       "      <td>0</td>\n",
       "      <td>0</td>\n",
       "      <td>0</td>\n",
       "      <td>0</td>\n",
       "    </tr>\n",
       "    <tr>\n",
       "      <th>3491</th>\n",
       "      <td>56.78125</td>\n",
       "      <td>58.5625</td>\n",
       "      <td>56.12500</td>\n",
       "      <td>56.31250</td>\n",
       "      <td>34.847271</td>\n",
       "      <td>54119000.0</td>\n",
       "      <td>MSFT</td>\n",
       "      <td>2000</td>\n",
       "      <td>2000-01-01</td>\n",
       "      <td>1</td>\n",
       "      <td>...</td>\n",
       "      <td>0</td>\n",
       "      <td>0</td>\n",
       "      <td>0</td>\n",
       "      <td>0</td>\n",
       "      <td>0</td>\n",
       "      <td>0</td>\n",
       "      <td>0</td>\n",
       "      <td>0</td>\n",
       "      <td>0</td>\n",
       "      <td>0</td>\n",
       "    </tr>\n",
       "    <tr>\n",
       "      <th>3492</th>\n",
       "      <td>55.56250</td>\n",
       "      <td>58.1875</td>\n",
       "      <td>54.68750</td>\n",
       "      <td>56.90625</td>\n",
       "      <td>35.214706</td>\n",
       "      <td>64059600.0</td>\n",
       "      <td>MSFT</td>\n",
       "      <td>2000</td>\n",
       "      <td>2000-01-01</td>\n",
       "      <td>2</td>\n",
       "      <td>...</td>\n",
       "      <td>0</td>\n",
       "      <td>0</td>\n",
       "      <td>0</td>\n",
       "      <td>0</td>\n",
       "      <td>0</td>\n",
       "      <td>0</td>\n",
       "      <td>0</td>\n",
       "      <td>0</td>\n",
       "      <td>0</td>\n",
       "      <td>0</td>\n",
       "    </tr>\n",
       "    <tr>\n",
       "      <th>3493</th>\n",
       "      <td>56.09375</td>\n",
       "      <td>56.9375</td>\n",
       "      <td>54.18750</td>\n",
       "      <td>55.00000</td>\n",
       "      <td>34.035072</td>\n",
       "      <td>54976600.0</td>\n",
       "      <td>MSFT</td>\n",
       "      <td>2000</td>\n",
       "      <td>2000-01-01</td>\n",
       "      <td>3</td>\n",
       "      <td>...</td>\n",
       "      <td>0</td>\n",
       "      <td>0</td>\n",
       "      <td>0</td>\n",
       "      <td>0</td>\n",
       "      <td>0</td>\n",
       "      <td>0</td>\n",
       "      <td>0</td>\n",
       "      <td>0</td>\n",
       "      <td>0</td>\n",
       "      <td>0</td>\n",
       "    </tr>\n",
       "    <tr>\n",
       "      <th>3494</th>\n",
       "      <td>54.31250</td>\n",
       "      <td>56.1250</td>\n",
       "      <td>53.65625</td>\n",
       "      <td>55.71875</td>\n",
       "      <td>34.479843</td>\n",
       "      <td>62013600.0</td>\n",
       "      <td>MSFT</td>\n",
       "      <td>2000</td>\n",
       "      <td>2000-01-01</td>\n",
       "      <td>4</td>\n",
       "      <td>...</td>\n",
       "      <td>0</td>\n",
       "      <td>0</td>\n",
       "      <td>0</td>\n",
       "      <td>0</td>\n",
       "      <td>0</td>\n",
       "      <td>0</td>\n",
       "      <td>0</td>\n",
       "      <td>0</td>\n",
       "      <td>0</td>\n",
       "      <td>0</td>\n",
       "    </tr>\n",
       "  </tbody>\n",
       "</table>\n",
       "<p>5 rows × 301 columns</p>\n",
       "</div>"
      ],
      "text/plain": [
       "          Open     High       Low     Close  Adj Close_x      Volume Ticker  \\\n",
       "3490  58.68750  59.3125  56.00000  58.28125    36.065567  53228400.0   MSFT   \n",
       "3491  56.78125  58.5625  56.12500  56.31250    34.847271  54119000.0   MSFT   \n",
       "3492  55.56250  58.1875  54.68750  56.90625    35.214706  64059600.0   MSFT   \n",
       "3493  56.09375  56.9375  54.18750  55.00000    34.035072  54976600.0   MSFT   \n",
       "3494  54.31250  56.1250  53.65625  55.71875    34.479843  62013600.0   MSFT   \n",
       "\n",
       "      Year      Month  Weekday  ... WOM_Oct_w1  WOM_Oct_w2  WOM_Oct_w3  \\\n",
       "3490  2000 2000-01-01        0  ...          0           0           0   \n",
       "3491  2000 2000-01-01        1  ...          0           0           0   \n",
       "3492  2000 2000-01-01        2  ...          0           0           0   \n",
       "3493  2000 2000-01-01        3  ...          0           0           0   \n",
       "3494  2000 2000-01-01        4  ...          0           0           0   \n",
       "\n",
       "      WOM_Oct_w4  WOM_Oct_w5  WOM_Sep_w1  WOM_Sep_w2  WOM_Sep_w3  WOM_Sep_w4  \\\n",
       "3490           0           0           0           0           0           0   \n",
       "3491           0           0           0           0           0           0   \n",
       "3492           0           0           0           0           0           0   \n",
       "3493           0           0           0           0           0           0   \n",
       "3494           0           0           0           0           0           0   \n",
       "\n",
       "      WOM_Sep_w5  \n",
       "3490           0  \n",
       "3491           0  \n",
       "3492           0  \n",
       "3493           0  \n",
       "3494           0  \n",
       "\n",
       "[5 rows x 301 columns]"
      ]
     },
     "execution_count": 152,
     "metadata": {},
     "output_type": "execute_result"
    }
   ],
   "source": [
    "df_with_dummies.head(5)"
   ]
  },
  {
   "cell_type": "code",
   "execution_count": 153,
   "metadata": {},
   "outputs": [
    {
     "name": "stdout",
     "output_type": "stream",
     "text": [
      "<class 'pandas.core.frame.DataFrame'>\n",
      "Index: 182675 entries, 3490 to 5426\n",
      "Columns: 301 entries, Open to WOM_Sep_w5\n",
      "dtypes: datetime64[ns](4), float64(128), int32(161), int64(5), object(3)\n",
      "memory usage: 308.7+ MB\n"
     ]
    }
   ],
   "source": [
    "df_with_dummies.info()"
   ]
  },
  {
   "cell_type": "code",
   "execution_count": 154,
   "metadata": {},
   "outputs": [
    {
     "data": {
      "text/plain": [
       "3490    0\n",
       "3491    0\n",
       "3492    0\n",
       "3493    0\n",
       "3494    1\n",
       "       ..\n",
       "5422    0\n",
       "5423    0\n",
       "5424    0\n",
       "5425    0\n",
       "5426    0\n",
       "Name: is_positive_growth_5d_future, Length: 182675, dtype: int64"
      ]
     },
     "execution_count": 154,
     "metadata": {},
     "output_type": "execute_result"
    }
   ],
   "source": [
    "df_with_dummies['is_positive_growth_5d_future']"
   ]
  },
  {
   "cell_type": "code",
   "execution_count": 155,
   "metadata": {},
   "outputs": [],
   "source": [
    "TARGETS = DUMMIES + ['is_positive_growth_5d_future']"
   ]
  },
  {
   "cell_type": "code",
   "execution_count": 156,
   "metadata": {},
   "outputs": [],
   "source": [
    "df_corr = df_with_dummies[TARGETS].drop(['Month','Weekday'], axis=1).corr()['is_positive_growth_5d_future'].reset_index().sort_values('is_positive_growth_5d_future', ascending=False)"
   ]
  },
  {
   "cell_type": "code",
   "execution_count": 157,
   "metadata": {},
   "outputs": [
    {
     "data": {
      "text/html": [
       "<div>\n",
       "<style scoped>\n",
       "    .dataframe tbody tr th:only-of-type {\n",
       "        vertical-align: middle;\n",
       "    }\n",
       "\n",
       "    .dataframe tbody tr th {\n",
       "        vertical-align: top;\n",
       "    }\n",
       "\n",
       "    .dataframe thead th {\n",
       "        text-align: right;\n",
       "    }\n",
       "</style>\n",
       "<table border=\"1\" class=\"dataframe\">\n",
       "  <thead>\n",
       "    <tr style=\"text-align: right;\">\n",
       "      <th></th>\n",
       "      <th>index</th>\n",
       "      <th>is_positive_growth_5d_future</th>\n",
       "    </tr>\n",
       "  </thead>\n",
       "  <tbody>\n",
       "    <tr>\n",
       "      <th>96</th>\n",
       "      <td>is_positive_growth_5d_future</td>\n",
       "      <td>1.000000</td>\n",
       "    </tr>\n",
       "    <tr>\n",
       "      <th>74</th>\n",
       "      <td>WOM_Mar_w4</td>\n",
       "      <td>0.026058</td>\n",
       "    </tr>\n",
       "    <tr>\n",
       "      <th>90</th>\n",
       "      <td>WOM_Oct_w5</td>\n",
       "      <td>0.026023</td>\n",
       "    </tr>\n",
       "    <tr>\n",
       "      <th>79</th>\n",
       "      <td>WOM_May_w4</td>\n",
       "      <td>0.022264</td>\n",
       "    </tr>\n",
       "    <tr>\n",
       "      <th>49</th>\n",
       "      <td>WOM_Dec_w4</td>\n",
       "      <td>0.019270</td>\n",
       "    </tr>\n",
       "  </tbody>\n",
       "</table>\n",
       "</div>"
      ],
      "text/plain": [
       "                           index  is_positive_growth_5d_future\n",
       "96  is_positive_growth_5d_future                      1.000000\n",
       "74                    WOM_Mar_w4                      0.026058\n",
       "90                    WOM_Oct_w5                      0.026023\n",
       "79                    WOM_May_w4                      0.022264\n",
       "49                    WOM_Dec_w4                      0.019270"
      ]
     },
     "execution_count": 157,
     "metadata": {},
     "output_type": "execute_result"
    }
   ],
   "source": [
    "df_corr.head()"
   ]
  },
  {
   "cell_type": "code",
   "execution_count": null,
   "metadata": {},
   "outputs": [],
   "source": []
  },
  {
   "cell_type": "markdown",
   "metadata": {},
   "source": [
    "# Q2"
   ]
  },
  {
   "cell_type": "code",
   "execution_count": 158,
   "metadata": {},
   "outputs": [],
   "source": [
    "df_with_dummies_q2 = df_with_dummies.copy()"
   ]
  },
  {
   "cell_type": "code",
   "execution_count": 159,
   "metadata": {},
   "outputs": [],
   "source": [
    "pd.options.mode.chained_assignment = None  # default='warn'\n",
    "\n",
    "df_with_dummies_q2.replace([np.inf, -np.inf], np.nan, inplace=True)\n",
    "\n",
    "# Need to fill NaNs somehow\n",
    "df_with_dummies_q2.fillna(0, inplace=True)"
   ]
  },
  {
   "cell_type": "code",
   "execution_count": 160,
   "metadata": {},
   "outputs": [
    {
     "data": {
      "text/plain": [
       "pred3_manual_gdp_fastd\n",
       "1    166242\n",
       "0     16433\n",
       "Name: count, dtype: int64"
      ]
     },
     "execution_count": 160,
     "metadata": {},
     "output_type": "execute_result"
    }
   ],
   "source": [
    "df_with_dummies_q2['pred3_manual_gdp_fastd'] = ((df_with_dummies_q2['gdppot_us_yoy'] <= 0.027) & (df_with_dummies_q2['fastd'] >= 0.251)).astype(int)\n",
    "df_with_dummies_q2['pred3_manual_gdp_fastd'].value_counts()"
   ]
  },
  {
   "cell_type": "code",
   "execution_count": 161,
   "metadata": {},
   "outputs": [
    {
     "data": {
      "text/plain": [
       "pred4_manual_gdp_wti_oil\n",
       "0    172493\n",
       "1     10182\n",
       "Name: count, dtype: int64"
      ]
     },
     "execution_count": 161,
     "metadata": {},
     "output_type": "execute_result"
    }
   ],
   "source": [
    "df_with_dummies_q2['pred4_manual_gdp_wti_oil'] = ((df_with_dummies_q2['gdppot_us_yoy'] >= 0.027) & (df_with_dummies_q2['growth_wti_oil_30d'] <= 1.005)).astype(int)\n",
    "df_with_dummies_q2['pred4_manual_gdp_wti_oil'].value_counts()"
   ]
  },
  {
   "cell_type": "code",
   "execution_count": 162,
   "metadata": {},
   "outputs": [
    {
     "data": {
      "text/plain": [
       "['pred3_manual_gdp_fastd', 'pred4_manual_gdp_wti_oil']"
      ]
     },
     "execution_count": 162,
     "metadata": {},
     "output_type": "execute_result"
    }
   ],
   "source": [
    "PREDICTIONS = [k for k in df_with_dummies_q2.keys() if k.startswith('pred')]\n",
    "PREDICTIONS"
   ]
  },
  {
   "cell_type": "code",
   "execution_count": 163,
   "metadata": {},
   "outputs": [],
   "source": [
    "def temporal_split(df, min_date, max_date, train_prop=0.7, val_prop=0.15, test_prop=0.15):\n",
    "    \"\"\"\n",
    "    Splits a DataFrame into three buckets based on the temporal order of the 'Date' column.\n",
    "\n",
    "    Args:\n",
    "        df (DataFrame): The DataFrame to split.\n",
    "        min_date (str or Timestamp): Minimum date in the DataFrame.\n",
    "        max_date (str or Timestamp): Maximum date in the DataFrame.\n",
    "        train_prop (float): Proportion of data for training set (default: 0.6).\n",
    "        val_prop (float): Proportion of data for validation set (default: 0.2).\n",
    "        test_prop (float): Proportion of data for test set (default: 0.2).\n",
    "\n",
    "    Returns:\n",
    "        DataFrame: The input DataFrame with a new column 'split' indicating the split for each row.\n",
    "    \"\"\"\n",
    "    # Define the date intervals\n",
    "    train_end = min_date + pd.Timedelta(days=(max_date - min_date).days * train_prop)\n",
    "    val_end = train_end + pd.Timedelta(days=(max_date - min_date).days * val_prop)\n",
    "\n",
    "    # Assign split labels based on date ranges\n",
    "    split_labels = []\n",
    "    for date in df['Date']:\n",
    "        if date <= train_end:\n",
    "            split_labels.append('train')\n",
    "        elif date <= val_end:\n",
    "            split_labels.append('validation')\n",
    "        else:\n",
    "            split_labels.append('test')\n",
    "\n",
    "    # Add 'split' column to the DataFrame\n",
    "    df['split'] = split_labels\n",
    "\n",
    "    return df"
   ]
  },
  {
   "cell_type": "code",
   "execution_count": 164,
   "metadata": {},
   "outputs": [],
   "source": [
    "min_date_df = df_with_dummies_q2.Date.min()\n",
    "max_date_df = df_with_dummies_q2.Date.max()\n",
    "\n",
    "df_with_dummies_q2 = temporal_split(df_with_dummies_q2,\n",
    "                                 min_date = min_date_df,\n",
    "                                 max_date = max_date_df)"
   ]
  },
  {
   "cell_type": "code",
   "execution_count": 165,
   "metadata": {},
   "outputs": [
    {
     "data": {
      "text/plain": [
       "split\n",
       "train         0.675834\n",
       "test          0.163290\n",
       "validation    0.160876\n",
       "Name: count, dtype: float64"
      ]
     },
     "execution_count": 165,
     "metadata": {},
     "output_type": "execute_result"
    }
   ],
   "source": [
    "df_with_dummies_q2['split'].value_counts()/len(df_with_dummies_q2)"
   ]
  },
  {
   "cell_type": "code",
   "execution_count": 166,
   "metadata": {},
   "outputs": [
    {
     "data": {
      "text/plain": [
       "pred3_manual_gdp_fastd\n",
       "1    29822\n",
       "0        7\n",
       "Name: count, dtype: int64"
      ]
     },
     "execution_count": 166,
     "metadata": {},
     "output_type": "execute_result"
    }
   ],
   "source": [
    "df_with_dummies_q2[df_with_dummies_q2['split'] == 'test']['pred3_manual_gdp_fastd'].value_counts()"
   ]
  },
  {
   "cell_type": "code",
   "execution_count": 167,
   "metadata": {},
   "outputs": [
    {
     "data": {
      "text/plain": [
       "pred4_manual_gdp_wti_oil\n",
       "0    29829\n",
       "Name: count, dtype: int64"
      ]
     },
     "execution_count": 167,
     "metadata": {},
     "output_type": "execute_result"
    }
   ],
   "source": [
    "df_with_dummies_q2[df_with_dummies_q2['split'] == 'test']['pred4_manual_gdp_wti_oil'].value_counts()"
   ]
  },
  {
   "cell_type": "code",
   "execution_count": 168,
   "metadata": {},
   "outputs": [
    {
     "data": {
      "text/plain": [
       "Timestamp('2020-09-11 00:00:00')"
      ]
     },
     "execution_count": 168,
     "metadata": {},
     "output_type": "execute_result"
    }
   ],
   "source": [
    "df_with_dummies_q2[df_with_dummies_q2['split'] != 'test'].Date.max()"
   ]
  },
  {
   "cell_type": "code",
   "execution_count": 169,
   "metadata": {},
   "outputs": [
    {
     "data": {
      "image/png": "[encoded data removed]",
      "text/plain": [
       "<Figure size 1400x800 with 1 Axes>"
      ]
     },
     "metadata": {},
     "output_type": "display_data"
    }
   ],
   "source": [
    "df = df_with_dummies_q2.copy()\n",
    "\n",
    "df['Date'] = pd.to_datetime(df['Date'])\n",
    "df['gdppot_us_yoy_binary'] = np.where(df['gdppot_us_yoy'] >= 0.027, 1, 0)\n",
    "\n",
    "\n",
    "plt.figure(figsize=(14, 8))\n",
    "plt.step(df['Date'], df['gdppot_us_yoy_binary'], where='post', label='GDP Potential US YoY (Binary)', color='blue')\n",
    "\n",
    "# Draw a black line at the specified datehighlight_date = '2020-09-14'\n",
    "highlight_date = df[df['split'] != 'test'].Date.max()\n",
    "plt.axvline(pd.Timestamp(highlight_date), color='black', linestyle='--', linewidth=2, label=f'Highlight Date {highlight_date}')\n",
    "\n",
    "\n",
    "plt.text(pd.Timestamp(highlight_date), 0.5, 'test data region', rotation=0, verticalalignment='center', color='black', fontsize=12)\n",
    "\n",
    "\n",
    "# Add labels and title\n",
    "plt.xlabel('Date')\n",
    "plt.ylabel('Values')\n",
    "plt.title('Line Plot with Specific Date Highlighted')\n",
    "plt.legend()\n",
    "\n",
    "# Show plot\n",
    "plt.grid(True)\n",
    "plt.show()"
   ]
  },
  {
   "cell_type": "markdown",
   "metadata": {},
   "source": [
    "- The reason of why there is no positive value in pred4 is because all gdppot_us_yoy value in test_data is less than 0.027\n",
    "- This is the crons of using index to split train and test set.\n",
    "- The better choice is using train_test_split"
   ]
  },
  {
   "cell_type": "code",
   "execution_count": 173,
   "metadata": {},
   "outputs": [],
   "source": [
    "test_idx = df_with_dummies_q2['split'].isin(['test'])\n",
    "value_counts = df_with_dummies_q2.loc[test_idx, 'is_positive_growth_5d_future'].value_counts()"
   ]
  },
  {
   "cell_type": "code",
   "execution_count": 174,
   "metadata": {},
   "outputs": [
    {
     "name": "stdout",
     "output_type": "stream",
     "text": [
      "0.5551979617151095\n"
     ]
    }
   ],
   "source": [
    "portion_of_1 = value_counts[1] / (value_counts[1] + value_counts[0])\n",
    "print(portion_of_1)"
   ]
  },
  {
   "cell_type": "markdown",
   "metadata": {},
   "source": [
    "# Q3"
   ]
  },
  {
   "cell_type": "code",
   "execution_count": null,
   "metadata": {},
   "outputs": [],
   "source": []
  }
 ],
 "metadata": {
  "kernelspec": {
   "display_name": "base",
   "language": "python",
   "name": "python3"
  },
  "language_info": {
   "codemirror_mode": {
    "name": "ipython",
    "version": 3
   },
   "file_extension": ".py",
   "mimetype": "text/x-python",
   "name": "python",
   "nbconvert_exporter": "python",
   "pygments_lexer": "ipython3",
   "version": "3.12.2"
  }
 },
 "nbformat": 4,
 "nbformat_minor": 2
}
